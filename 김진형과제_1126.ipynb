{
 "cells": [
  {
   "cell_type": "code",
   "execution_count": 74,
   "id": "1d07386a",
   "metadata": {},
   "outputs": [
    {
     "data": {
      "text/html": [
       "<div>\n",
       "<style scoped>\n",
       "    .dataframe tbody tr th:only-of-type {\n",
       "        vertical-align: middle;\n",
       "    }\n",
       "\n",
       "    .dataframe tbody tr th {\n",
       "        vertical-align: top;\n",
       "    }\n",
       "\n",
       "    .dataframe thead th {\n",
       "        text-align: right;\n",
       "    }\n",
       "</style>\n",
       "<table border=\"1\" class=\"dataframe\">\n",
       "  <thead>\n",
       "    <tr style=\"text-align: right;\">\n",
       "      <th></th>\n",
       "      <th>Invoice</th>\n",
       "      <th>StockCode</th>\n",
       "      <th>Description</th>\n",
       "      <th>Quantity</th>\n",
       "      <th>InvoiceDate</th>\n",
       "      <th>Price</th>\n",
       "      <th>Customer ID</th>\n",
       "      <th>Country</th>\n",
       "    </tr>\n",
       "  </thead>\n",
       "  <tbody>\n",
       "    <tr>\n",
       "      <th>0</th>\n",
       "      <td>489434</td>\n",
       "      <td>85048</td>\n",
       "      <td>15CM CHRISTMAS GLASS BALL 20 LIGHTS</td>\n",
       "      <td>12</td>\n",
       "      <td>2009-12-01 07:45:00</td>\n",
       "      <td>6.95</td>\n",
       "      <td>13085.0</td>\n",
       "      <td>United Kingdom</td>\n",
       "    </tr>\n",
       "    <tr>\n",
       "      <th>1</th>\n",
       "      <td>489434</td>\n",
       "      <td>79323P</td>\n",
       "      <td>PINK CHERRY LIGHTS</td>\n",
       "      <td>12</td>\n",
       "      <td>2009-12-01 07:45:00</td>\n",
       "      <td>6.75</td>\n",
       "      <td>13085.0</td>\n",
       "      <td>United Kingdom</td>\n",
       "    </tr>\n",
       "    <tr>\n",
       "      <th>2</th>\n",
       "      <td>489434</td>\n",
       "      <td>79323W</td>\n",
       "      <td>WHITE CHERRY LIGHTS</td>\n",
       "      <td>12</td>\n",
       "      <td>2009-12-01 07:45:00</td>\n",
       "      <td>6.75</td>\n",
       "      <td>13085.0</td>\n",
       "      <td>United Kingdom</td>\n",
       "    </tr>\n",
       "    <tr>\n",
       "      <th>3</th>\n",
       "      <td>489434</td>\n",
       "      <td>22041</td>\n",
       "      <td>RECORD FRAME 7\" SINGLE SIZE</td>\n",
       "      <td>48</td>\n",
       "      <td>2009-12-01 07:45:00</td>\n",
       "      <td>2.10</td>\n",
       "      <td>13085.0</td>\n",
       "      <td>United Kingdom</td>\n",
       "    </tr>\n",
       "    <tr>\n",
       "      <th>4</th>\n",
       "      <td>489434</td>\n",
       "      <td>21232</td>\n",
       "      <td>STRAWBERRY CERAMIC TRINKET BOX</td>\n",
       "      <td>24</td>\n",
       "      <td>2009-12-01 07:45:00</td>\n",
       "      <td>1.25</td>\n",
       "      <td>13085.0</td>\n",
       "      <td>United Kingdom</td>\n",
       "    </tr>\n",
       "  </tbody>\n",
       "</table>\n",
       "</div>"
      ],
      "text/plain": [
       "  Invoice StockCode                          Description  Quantity  \\\n",
       "0  489434     85048  15CM CHRISTMAS GLASS BALL 20 LIGHTS        12   \n",
       "1  489434    79323P                   PINK CHERRY LIGHTS        12   \n",
       "2  489434    79323W                  WHITE CHERRY LIGHTS        12   \n",
       "3  489434     22041         RECORD FRAME 7\" SINGLE SIZE         48   \n",
       "4  489434     21232       STRAWBERRY CERAMIC TRINKET BOX        24   \n",
       "\n",
       "          InvoiceDate  Price  Customer ID         Country  \n",
       "0 2009-12-01 07:45:00   6.95      13085.0  United Kingdom  \n",
       "1 2009-12-01 07:45:00   6.75      13085.0  United Kingdom  \n",
       "2 2009-12-01 07:45:00   6.75      13085.0  United Kingdom  \n",
       "3 2009-12-01 07:45:00   2.10      13085.0  United Kingdom  \n",
       "4 2009-12-01 07:45:00   1.25      13085.0  United Kingdom  "
      ]
     },
     "execution_count": 74,
     "metadata": {},
     "output_type": "execute_result"
    }
   ],
   "source": [
    "import pandas as pd\n",
    "\n",
    "# 엑셀 파일 읽기\n",
    "file_path = ('/aiffel/aiffel/retail.xlsx')\n",
    "retail = pd.read_excel(file_path, engine='openpyxl')\n",
    "\n",
    "# 데이터 확인\n",
    "retail.head()\n"
   ]
  },
  {
   "cell_type": "code",
   "execution_count": 75,
   "id": "f5019a91",
   "metadata": {},
   "outputs": [
    {
     "name": "stdout",
     "output_type": "stream",
     "text": [
      "<class 'pandas.core.frame.DataFrame'>\n",
      "RangeIndex: 525461 entries, 0 to 525460\n",
      "Data columns (total 8 columns):\n",
      " #   Column       Non-Null Count   Dtype         \n",
      "---  ------       --------------   -----         \n",
      " 0   Invoice      525461 non-null  object        \n",
      " 1   StockCode    525461 non-null  object        \n",
      " 2   Description  522533 non-null  object        \n",
      " 3   Quantity     525461 non-null  int64         \n",
      " 4   InvoiceDate  525461 non-null  datetime64[ns]\n",
      " 5   Price        525461 non-null  float64       \n",
      " 6   Customer ID  417534 non-null  float64       \n",
      " 7   Country      525461 non-null  object        \n",
      "dtypes: datetime64[ns](1), float64(2), int64(1), object(4)\n",
      "memory usage: 32.1+ MB\n"
     ]
    }
   ],
   "source": [
    "retail.info()"
   ]
  },
  {
   "cell_type": "code",
   "execution_count": 76,
   "id": "bff10b74",
   "metadata": {},
   "outputs": [],
   "source": [
    "retail['InvoiceDate_DT'] = pd.to_datetime(retail['InvoiceDate'])\n",
    "retail = retail[retail['Customer ID'].notna()]\n",
    "retail['Customer ID'] = retail['Customer ID'].astype(np.int64)\n",
    "retail = retail.sort_values('InvoiceDate_DT')\n",
    "retail['Total'] = retail['Quantity'] * retail['Price']"
   ]
  },
  {
   "cell_type": "code",
   "execution_count": 77,
   "id": "fbd8abff",
   "metadata": {},
   "outputs": [
    {
     "data": {
      "text/html": [
       "<div>\n",
       "<style scoped>\n",
       "    .dataframe tbody tr th:only-of-type {\n",
       "        vertical-align: middle;\n",
       "    }\n",
       "\n",
       "    .dataframe tbody tr th {\n",
       "        vertical-align: top;\n",
       "    }\n",
       "\n",
       "    .dataframe thead th {\n",
       "        text-align: right;\n",
       "    }\n",
       "</style>\n",
       "<table border=\"1\" class=\"dataframe\">\n",
       "  <thead>\n",
       "    <tr style=\"text-align: right;\">\n",
       "      <th></th>\n",
       "      <th>Invoice</th>\n",
       "      <th>StockCode</th>\n",
       "      <th>Description</th>\n",
       "      <th>Quantity</th>\n",
       "      <th>InvoiceDate</th>\n",
       "      <th>Price</th>\n",
       "      <th>Customer ID</th>\n",
       "      <th>Country</th>\n",
       "      <th>InvoiceDate_DT</th>\n",
       "      <th>Total</th>\n",
       "    </tr>\n",
       "  </thead>\n",
       "  <tbody>\n",
       "    <tr>\n",
       "      <th>0</th>\n",
       "      <td>489434</td>\n",
       "      <td>85048</td>\n",
       "      <td>15CM CHRISTMAS GLASS BALL 20 LIGHTS</td>\n",
       "      <td>12</td>\n",
       "      <td>2009-12-01 07:45:00</td>\n",
       "      <td>6.95</td>\n",
       "      <td>13085</td>\n",
       "      <td>United Kingdom</td>\n",
       "      <td>2009-12-01 07:45:00</td>\n",
       "      <td>83.4</td>\n",
       "    </tr>\n",
       "    <tr>\n",
       "      <th>1</th>\n",
       "      <td>489434</td>\n",
       "      <td>79323P</td>\n",
       "      <td>PINK CHERRY LIGHTS</td>\n",
       "      <td>12</td>\n",
       "      <td>2009-12-01 07:45:00</td>\n",
       "      <td>6.75</td>\n",
       "      <td>13085</td>\n",
       "      <td>United Kingdom</td>\n",
       "      <td>2009-12-01 07:45:00</td>\n",
       "      <td>81.0</td>\n",
       "    </tr>\n",
       "    <tr>\n",
       "      <th>2</th>\n",
       "      <td>489434</td>\n",
       "      <td>79323W</td>\n",
       "      <td>WHITE CHERRY LIGHTS</td>\n",
       "      <td>12</td>\n",
       "      <td>2009-12-01 07:45:00</td>\n",
       "      <td>6.75</td>\n",
       "      <td>13085</td>\n",
       "      <td>United Kingdom</td>\n",
       "      <td>2009-12-01 07:45:00</td>\n",
       "      <td>81.0</td>\n",
       "    </tr>\n",
       "    <tr>\n",
       "      <th>3</th>\n",
       "      <td>489434</td>\n",
       "      <td>22041</td>\n",
       "      <td>RECORD FRAME 7\" SINGLE SIZE</td>\n",
       "      <td>48</td>\n",
       "      <td>2009-12-01 07:45:00</td>\n",
       "      <td>2.10</td>\n",
       "      <td>13085</td>\n",
       "      <td>United Kingdom</td>\n",
       "      <td>2009-12-01 07:45:00</td>\n",
       "      <td>100.8</td>\n",
       "    </tr>\n",
       "    <tr>\n",
       "      <th>4</th>\n",
       "      <td>489434</td>\n",
       "      <td>21232</td>\n",
       "      <td>STRAWBERRY CERAMIC TRINKET BOX</td>\n",
       "      <td>24</td>\n",
       "      <td>2009-12-01 07:45:00</td>\n",
       "      <td>1.25</td>\n",
       "      <td>13085</td>\n",
       "      <td>United Kingdom</td>\n",
       "      <td>2009-12-01 07:45:00</td>\n",
       "      <td>30.0</td>\n",
       "    </tr>\n",
       "  </tbody>\n",
       "</table>\n",
       "</div>"
      ],
      "text/plain": [
       "  Invoice StockCode                          Description  Quantity  \\\n",
       "0  489434     85048  15CM CHRISTMAS GLASS BALL 20 LIGHTS        12   \n",
       "1  489434    79323P                   PINK CHERRY LIGHTS        12   \n",
       "2  489434    79323W                  WHITE CHERRY LIGHTS        12   \n",
       "3  489434     22041         RECORD FRAME 7\" SINGLE SIZE         48   \n",
       "4  489434     21232       STRAWBERRY CERAMIC TRINKET BOX        24   \n",
       "\n",
       "          InvoiceDate  Price  Customer ID         Country      InvoiceDate_DT  \\\n",
       "0 2009-12-01 07:45:00   6.95        13085  United Kingdom 2009-12-01 07:45:00   \n",
       "1 2009-12-01 07:45:00   6.75        13085  United Kingdom 2009-12-01 07:45:00   \n",
       "2 2009-12-01 07:45:00   6.75        13085  United Kingdom 2009-12-01 07:45:00   \n",
       "3 2009-12-01 07:45:00   2.10        13085  United Kingdom 2009-12-01 07:45:00   \n",
       "4 2009-12-01 07:45:00   1.25        13085  United Kingdom 2009-12-01 07:45:00   \n",
       "\n",
       "   Total  \n",
       "0   83.4  \n",
       "1   81.0  \n",
       "2   81.0  \n",
       "3  100.8  \n",
       "4   30.0  "
      ]
     },
     "execution_count": 77,
     "metadata": {},
     "output_type": "execute_result"
    }
   ],
   "source": [
    "retail.head()"
   ]
  },
  {
   "cell_type": "code",
   "execution_count": 78,
   "id": "a0a57672",
   "metadata": {},
   "outputs": [],
   "source": [
    "# 결측치가 있는 고객 ID 제거\n",
    "retail = retail.dropna(subset=['Customer ID'])"
   ]
  },
  {
   "cell_type": "code",
   "execution_count": 79,
   "id": "cfe6d5f6",
   "metadata": {},
   "outputs": [],
   "source": [
    " # InvoiceDate를 기준으로 데이터 정렬\n",
    "data = data.sort_values(by='InvoiceDate')\n",
    "\n",
    "# 4. 매출 금액 (Total) 계산\n",
    "retail['Total'] = retail['Quantity'] * retail['Price']"
   ]
  },
  {
   "cell_type": "code",
   "execution_count": 80,
   "id": "19b393b2",
   "metadata": {},
   "outputs": [
    {
     "data": {
      "text/html": [
       "<div>\n",
       "<style scoped>\n",
       "    .dataframe tbody tr th:only-of-type {\n",
       "        vertical-align: middle;\n",
       "    }\n",
       "\n",
       "    .dataframe tbody tr th {\n",
       "        vertical-align: top;\n",
       "    }\n",
       "\n",
       "    .dataframe thead th {\n",
       "        text-align: right;\n",
       "    }\n",
       "</style>\n",
       "<table border=\"1\" class=\"dataframe\">\n",
       "  <thead>\n",
       "    <tr style=\"text-align: right;\">\n",
       "      <th></th>\n",
       "      <th>Invoice</th>\n",
       "      <th>StockCode</th>\n",
       "      <th>Description</th>\n",
       "      <th>Quantity</th>\n",
       "      <th>InvoiceDate</th>\n",
       "      <th>Price</th>\n",
       "      <th>Customer ID</th>\n",
       "      <th>Country</th>\n",
       "      <th>InvoiceDate_DT</th>\n",
       "      <th>Total</th>\n",
       "    </tr>\n",
       "  </thead>\n",
       "  <tbody>\n",
       "    <tr>\n",
       "      <th>0</th>\n",
       "      <td>489434</td>\n",
       "      <td>85048</td>\n",
       "      <td>15CM CHRISTMAS GLASS BALL 20 LIGHTS</td>\n",
       "      <td>12</td>\n",
       "      <td>2009-12-01 07:45:00</td>\n",
       "      <td>6.95</td>\n",
       "      <td>13085</td>\n",
       "      <td>United Kingdom</td>\n",
       "      <td>2009-12-01 07:45:00</td>\n",
       "      <td>83.4</td>\n",
       "    </tr>\n",
       "    <tr>\n",
       "      <th>1</th>\n",
       "      <td>489434</td>\n",
       "      <td>79323P</td>\n",
       "      <td>PINK CHERRY LIGHTS</td>\n",
       "      <td>12</td>\n",
       "      <td>2009-12-01 07:45:00</td>\n",
       "      <td>6.75</td>\n",
       "      <td>13085</td>\n",
       "      <td>United Kingdom</td>\n",
       "      <td>2009-12-01 07:45:00</td>\n",
       "      <td>81.0</td>\n",
       "    </tr>\n",
       "    <tr>\n",
       "      <th>2</th>\n",
       "      <td>489434</td>\n",
       "      <td>79323W</td>\n",
       "      <td>WHITE CHERRY LIGHTS</td>\n",
       "      <td>12</td>\n",
       "      <td>2009-12-01 07:45:00</td>\n",
       "      <td>6.75</td>\n",
       "      <td>13085</td>\n",
       "      <td>United Kingdom</td>\n",
       "      <td>2009-12-01 07:45:00</td>\n",
       "      <td>81.0</td>\n",
       "    </tr>\n",
       "    <tr>\n",
       "      <th>3</th>\n",
       "      <td>489434</td>\n",
       "      <td>22041</td>\n",
       "      <td>RECORD FRAME 7\" SINGLE SIZE</td>\n",
       "      <td>48</td>\n",
       "      <td>2009-12-01 07:45:00</td>\n",
       "      <td>2.10</td>\n",
       "      <td>13085</td>\n",
       "      <td>United Kingdom</td>\n",
       "      <td>2009-12-01 07:45:00</td>\n",
       "      <td>100.8</td>\n",
       "    </tr>\n",
       "    <tr>\n",
       "      <th>4</th>\n",
       "      <td>489434</td>\n",
       "      <td>21232</td>\n",
       "      <td>STRAWBERRY CERAMIC TRINKET BOX</td>\n",
       "      <td>24</td>\n",
       "      <td>2009-12-01 07:45:00</td>\n",
       "      <td>1.25</td>\n",
       "      <td>13085</td>\n",
       "      <td>United Kingdom</td>\n",
       "      <td>2009-12-01 07:45:00</td>\n",
       "      <td>30.0</td>\n",
       "    </tr>\n",
       "  </tbody>\n",
       "</table>\n",
       "</div>"
      ],
      "text/plain": [
       "  Invoice StockCode                          Description  Quantity  \\\n",
       "0  489434     85048  15CM CHRISTMAS GLASS BALL 20 LIGHTS        12   \n",
       "1  489434    79323P                   PINK CHERRY LIGHTS        12   \n",
       "2  489434    79323W                  WHITE CHERRY LIGHTS        12   \n",
       "3  489434     22041         RECORD FRAME 7\" SINGLE SIZE         48   \n",
       "4  489434     21232       STRAWBERRY CERAMIC TRINKET BOX        24   \n",
       "\n",
       "          InvoiceDate  Price  Customer ID         Country      InvoiceDate_DT  \\\n",
       "0 2009-12-01 07:45:00   6.95        13085  United Kingdom 2009-12-01 07:45:00   \n",
       "1 2009-12-01 07:45:00   6.75        13085  United Kingdom 2009-12-01 07:45:00   \n",
       "2 2009-12-01 07:45:00   6.75        13085  United Kingdom 2009-12-01 07:45:00   \n",
       "3 2009-12-01 07:45:00   2.10        13085  United Kingdom 2009-12-01 07:45:00   \n",
       "4 2009-12-01 07:45:00   1.25        13085  United Kingdom 2009-12-01 07:45:00   \n",
       "\n",
       "   Total  \n",
       "0   83.4  \n",
       "1   81.0  \n",
       "2   81.0  \n",
       "3  100.8  \n",
       "4   30.0  "
      ]
     },
     "execution_count": 80,
     "metadata": {},
     "output_type": "execute_result"
    }
   ],
   "source": [
    "retail.head()"
   ]
  },
  {
   "cell_type": "markdown",
   "id": "af926d87",
   "metadata": {},
   "source": [
    "# 나라별 구매인원 시각화"
   ]
  },
  {
   "cell_type": "code",
   "execution_count": 81,
   "id": "15bc82df",
   "metadata": {},
   "outputs": [],
   "source": [
    "import numpy as np\n",
    "import matplotlib.pyplot as plt\n",
    "import seaborn as sns"
   ]
  },
  {
   "cell_type": "code",
   "execution_count": 82,
   "id": "ac50f1f2",
   "metadata": {},
   "outputs": [
    {
     "data": {
      "image/png": "[encoded data removed]",
      "text/plain": [
       "<Figure size 864x432 with 1 Axes>"
      ]
     },
     "metadata": {
      "needs_background": "light"
     },
     "output_type": "display_data"
    }
   ],
   "source": [
    "# 2. 데이터 시각화 - 나라별 구매 고객 수 계산\n",
    "unique_customers_by_country = retail.groupby('Country')['Customer ID'].nunique().sort_values(ascending=False)\n",
    "\n",
    "# 시각화\n",
    "plt.figure(figsize=(12, 6))\n",
    "unique_customers_by_country.plot(kind='bar', color='skyblue')\n",
    "plt.title('Countries with Largest Number of Unique Customers')\n",
    "plt.xlabel('Countries')\n",
    "plt.ylabel('Number of Unique Customers')\n",
    "plt.xticks(rotation=45, ha='right')\n",
    "plt.tight_layout()\n",
    "plt.show()\n"
   ]
  },
  {
   "cell_type": "markdown",
   "id": "964b3ece",
   "metadata": {},
   "source": [
    "# Acquisition: 고객 유입분석"
   ]
  },
  {
   "cell_type": "code",
   "execution_count": 83,
   "id": "68fa4f1a",
   "metadata": {},
   "outputs": [
    {
     "data": {
      "image/png": "[encoded data removed]",
      "text/plain": [
       "<Figure size 864x432 with 1 Axes>"
      ]
     },
     "metadata": {
      "needs_background": "light"
     },
     "output_type": "display_data"
    }
   ],
   "source": [
    "## 1. 'InvoiceDate'를 날짜 형식으로 변환\n",
    "retail['InvoiceDate'] = pd.to_datetime(retail['InvoiceDate'])\n",
    "\n",
    "# 2. 'YearMonth' 컬럼 생성 (연-월 기준으로 데이터 집계)\n",
    "retail['YearMonth'] = retail['InvoiceDate'].dt.to_period('M')\n",
    "\n",
    "# 3. 고객별 첫 구매 날짜 추출\n",
    "first_purchase = retail.groupby('Customer ID')['InvoiceDate'].min().reset_index()\n",
    "first_purchase['YearMonth'] = first_purchase['InvoiceDate'].dt.to_period('M')\n",
    "\n",
    "# 4. 월별 신규 유입 고객 수 집계\n",
    "monthly_new_customers = first_purchase['YearMonth'].value_counts().sort_index()\n",
    "\n",
    "# 5. 결과 시각화\n",
    "plt.figure(figsize=(12, 6))\n",
    "monthly_new_customers.plot(kind='bar', color='skyblue')\n",
    "plt.title(\"Monthly New Customers\")\n",
    "plt.xlabel(\"Year-Month\")\n",
    "plt.ylabel(\"Number of New Customers\")\n",
    "plt.xticks(rotation=45)\n",
    "plt.grid(axis='y')\n",
    "plt.show()"
   ]
  },
  {
   "cell_type": "markdown",
   "id": "b48f9d22",
   "metadata": {},
   "source": [
    "# Activation: 고객 활성화 분석"
   ]
  },
  {
   "cell_type": "code",
   "execution_count": 84,
   "id": "9c21a29e",
   "metadata": {},
   "outputs": [
    {
     "name": "stdout",
     "output_type": "stream",
     "text": [
      "총 고객 수: 4383\n",
      "활성화된 고객 수 (첫 구매 후 £50 이상 지출한 고객): 4218\n",
      "고객 활성화율: 96.24%\n"
     ]
    }
   ],
   "source": [
    "import pandas as pd\n",
    "\n",
    "# 1. 'InvoiceDate'를 날짜 형식으로 변환\n",
    "retail['InvoiceDate_DT'] = pd.to_datetime(retail['InvoiceDate'])\n",
    "\n",
    "# 고객별 첫 구매 날짜 추출\n",
    "first_purchase = retail.groupby('Customer ID')['InvoiceDate'].min().reset_index()\n",
    "first_purchase.columns = ['Customer ID', 'First Purchase Date']\n",
    "\n",
    "# 고객별 총 구매 금액 집계\n",
    "customer_revenue = retail.groupby('Customer ID')['Total'].sum().reset_index()\n",
    "customer_revenue.columns = ['Customer ID', 'Total Spend']\n",
    "\n",
    "# 첫 구매 이후 특정 금액 (£50) 이상 지출한 고객 수 계산\n",
    "activation_threshold = 50  # 활성화 기준 금액 설정\n",
    "activated_customers = customer_revenue[customer_revenue['Total Spend'] >= activation_threshold]['Customer ID'].nunique()\n",
    "\n",
    "# 전체 고객 수와 활성화된 고객 수 계산\n",
    "total_customers = retail['Customer ID'].nunique()\n",
    "activation_rate = activated_customers / total_customers\n",
    "\n",
    "# 결과 출력\n",
    "print(f\"총 고객 수: {total_customers}\")\n",
    "print(f\"활성화된 고객 수 (첫 구매 후 £50 이상 지출한 고객): {activated_customers}\")\n",
    "print(f\"고객 활성화율: {activation_rate:.2%}\")"
   ]
  },
  {
   "cell_type": "markdown",
   "id": "88e1e038",
   "metadata": {},
   "source": [
    "# Retention: 코호트 분석 (유저 수)"
   ]
  },
  {
   "cell_type": "code",
   "execution_count": 85,
   "id": "fae82e1f",
   "metadata": {},
   "outputs": [],
   "source": [
    "retail = retail[retail['InvoiceDate_DT'].dt.year != 2009]\n",
    "retail['InvoiceQuarter'] = ('Q' + retail['InvoiceDate_DT'].dt.quarter.astype(str) +\n",
    "                            '/' + retail['InvoiceDate_DT'].dt.year.astype(str))\n",
    "quarters_map = dict(zip(retail['InvoiceQuarter'].unique(),\n",
    "                        range(len(retail['InvoiceQuarter'].unique()))))\n",
    "retail['InvoiceQuarterID'] = retail['InvoiceQuarter'].map(quarters_map)\n",
    "retail['CohortQuarterID'] = retail.groupby('Customer ID')['InvoiceQuarterID'].transform('min')\n",
    "retail['CohortQuarter'] = retail['CohortQuarterID'].map(dict(zip(quarters_map.values(), quarters_map.keys())))\n",
    "retail['CohortIndex'] = retail['InvoiceQuarterID'] - retail['CohortQuarterID']"
   ]
  },
  {
   "cell_type": "code",
   "execution_count": 86,
   "id": "103d9a8a",
   "metadata": {},
   "outputs": [
    {
     "data": {
      "text/html": [
       "<div>\n",
       "<style scoped>\n",
       "    .dataframe tbody tr th:only-of-type {\n",
       "        vertical-align: middle;\n",
       "    }\n",
       "\n",
       "    .dataframe tbody tr th {\n",
       "        vertical-align: top;\n",
       "    }\n",
       "\n",
       "    .dataframe thead th {\n",
       "        text-align: right;\n",
       "    }\n",
       "</style>\n",
       "<table border=\"1\" class=\"dataframe\">\n",
       "  <thead>\n",
       "    <tr style=\"text-align: right;\">\n",
       "      <th>CohortIndex</th>\n",
       "      <th>0</th>\n",
       "      <th>1</th>\n",
       "      <th>2</th>\n",
       "      <th>3</th>\n",
       "    </tr>\n",
       "    <tr>\n",
       "      <th>CohortQuarter</th>\n",
       "      <th></th>\n",
       "      <th></th>\n",
       "      <th></th>\n",
       "      <th></th>\n",
       "    </tr>\n",
       "  </thead>\n",
       "  <tbody>\n",
       "    <tr>\n",
       "      <th>Q1/2010</th>\n",
       "      <td>100.0</td>\n",
       "      <td>61.74</td>\n",
       "      <td>57.4</td>\n",
       "      <td>59.81</td>\n",
       "    </tr>\n",
       "    <tr>\n",
       "      <th>Q2/2010</th>\n",
       "      <td>100.0</td>\n",
       "      <td>41.25</td>\n",
       "      <td>45.1</td>\n",
       "      <td>NaN</td>\n",
       "    </tr>\n",
       "    <tr>\n",
       "      <th>Q3/2010</th>\n",
       "      <td>100.0</td>\n",
       "      <td>46.84</td>\n",
       "      <td>NaN</td>\n",
       "      <td>NaN</td>\n",
       "    </tr>\n",
       "    <tr>\n",
       "      <th>Q4/2010</th>\n",
       "      <td>100.0</td>\n",
       "      <td>NaN</td>\n",
       "      <td>NaN</td>\n",
       "      <td>NaN</td>\n",
       "    </tr>\n",
       "  </tbody>\n",
       "</table>\n",
       "</div>"
      ],
      "text/plain": [
       "CohortIndex        0      1     2      3\n",
       "CohortQuarter                           \n",
       "Q1/2010        100.0  61.74  57.4  59.81\n",
       "Q2/2010        100.0  41.25  45.1    NaN\n",
       "Q3/2010        100.0  46.84   NaN    NaN\n",
       "Q4/2010        100.0    NaN   NaN    NaN"
      ]
     },
     "execution_count": 86,
     "metadata": {},
     "output_type": "execute_result"
    }
   ],
   "source": [
    "cohort_retention = retail.groupby(['CohortQuarterID', 'CohortIndex'])['Customer ID'].apply(pd.Series.nunique).reset_index()\n",
    "cohort_retention.rename(columns={'Customer ID': 'Customer Count'}, inplace=True)\n",
    "cohort_retention_count = cohort_retention.pivot_table(index='CohortQuarterID',\n",
    "                                                      columns='CohortIndex',\n",
    "                                                      values='Customer Count')\n",
    "cohort_retention_count['CohortQuarter'] = cohort_retention_count.index.map(dict(zip(quarters_map.values(),\n",
    "                                                                                    quarters_map.keys())))\n",
    "cohort_retention_count = cohort_retention_count.set_index('CohortQuarter')\n",
    "cohort_size = cohort_retention_count.iloc[:, 0]\n",
    "retention = cohort_retention_count.divide(cohort_size, axis = 0)\n",
    "retention = (retention*100).round(2)\n",
    "retention = retention.iloc[::-1]\n",
    "retention = retention.loc[cohort_retention_count.index] #인덱스 재정렬\n",
    "retention"
   ]
  },
  {
   "cell_type": "code",
   "execution_count": 87,
   "id": "fdfb7216",
   "metadata": {},
   "outputs": [
    {
     "data": {
      "image/png": "[encoded data removed]",
      "text/plain": [
       "<Figure size 864x576 with 2 Axes>"
      ]
     },
     "metadata": {
      "needs_background": "light"
     },
     "output_type": "display_data"
    }
   ],
   "source": [
    "# Seaborn의 heatmap을 사용하여 시각화\n",
    "plt.figure(figsize=(12, 8))\n",
    "heatmap = sns.heatmap(\n",
    "    data=retention,\n",
    "    annot=True,                # 셀 내부에 값 표시\n",
    "    fmt='.2f',                 # 텍스트 형식 (소수점 2자리)\n",
    "    cmap='Greens',             # 색상 팔레트\n",
    "    cbar_kws={'label': 'Retention Rate, %'},  # 컬러바 제목\n",
    "    linewidths=0.5,            # 셀 간격\n",
    "    linecolor='gray',          # 셀 경계 색상\n",
    "    vmin=0, vmax=100           # Retention Rate의 범위 설정\n",
    ")\n",
    "\n",
    "# 그래프 제목 및 축 레이블 설정\n",
    "plt.title(\"Cohort Analysis: Retention Rate\", fontsize=16, pad=20)\n",
    "plt.xlabel(\"Cohorts\", fontsize=12, labelpad=10)\n",
    "plt.ylabel(\"Quarters\", fontsize=12, labelpad=10)\n",
    "\n",
    "# x축 레이블을 상단에 표시\n",
    "plt.gca().xaxis.tick_top()\n",
    "plt.gca().xaxis.set_label_position('top')\n",
    "\n",
    "# x축 레이블 각도 조정\n",
    "plt.xticks(rotation=0, ha='center')\n",
    "\n",
    "# 시각화 출력\n",
    "plt.tight_layout()\n",
    "plt.show()"
   ]
  },
  {
   "cell_type": "markdown",
   "id": "833c0536",
   "metadata": {},
   "source": [
    "# Retention: 코호트분석(구매 수량)"
   ]
  },
  {
   "cell_type": "code",
   "execution_count": 88,
   "id": "e53ebcdf",
   "metadata": {},
   "outputs": [
    {
     "data": {
      "text/html": [
       "<div>\n",
       "<style scoped>\n",
       "    .dataframe tbody tr th:only-of-type {\n",
       "        vertical-align: middle;\n",
       "    }\n",
       "\n",
       "    .dataframe tbody tr th {\n",
       "        vertical-align: top;\n",
       "    }\n",
       "\n",
       "    .dataframe thead th {\n",
       "        text-align: right;\n",
       "    }\n",
       "</style>\n",
       "<table border=\"1\" class=\"dataframe\">\n",
       "  <thead>\n",
       "    <tr style=\"text-align: right;\">\n",
       "      <th>CohortIndex</th>\n",
       "      <th>0</th>\n",
       "      <th>1</th>\n",
       "      <th>2</th>\n",
       "      <th>3</th>\n",
       "    </tr>\n",
       "    <tr>\n",
       "      <th>CohortQuarter</th>\n",
       "      <th></th>\n",
       "      <th></th>\n",
       "      <th></th>\n",
       "      <th></th>\n",
       "    </tr>\n",
       "  </thead>\n",
       "  <tbody>\n",
       "    <tr>\n",
       "      <th>Q1/2010</th>\n",
       "      <td>15.5</td>\n",
       "      <td>13.1</td>\n",
       "      <td>14.4</td>\n",
       "      <td>13.1</td>\n",
       "    </tr>\n",
       "    <tr>\n",
       "      <th>Q2/2010</th>\n",
       "      <td>10.3</td>\n",
       "      <td>11.2</td>\n",
       "      <td>10.2</td>\n",
       "      <td>NaN</td>\n",
       "    </tr>\n",
       "    <tr>\n",
       "      <th>Q3/2010</th>\n",
       "      <td>13.5</td>\n",
       "      <td>7.8</td>\n",
       "      <td>NaN</td>\n",
       "      <td>NaN</td>\n",
       "    </tr>\n",
       "    <tr>\n",
       "      <th>Q4/2010</th>\n",
       "      <td>7.6</td>\n",
       "      <td>NaN</td>\n",
       "      <td>NaN</td>\n",
       "      <td>NaN</td>\n",
       "    </tr>\n",
       "  </tbody>\n",
       "</table>\n",
       "</div>"
      ],
      "text/plain": [
       "CohortIndex       0     1     2     3\n",
       "CohortQuarter                        \n",
       "Q1/2010        15.5  13.1  14.4  13.1\n",
       "Q2/2010        10.3  11.2  10.2   NaN\n",
       "Q3/2010        13.5   7.8   NaN   NaN\n",
       "Q4/2010         7.6   NaN   NaN   NaN"
      ]
     },
     "execution_count": 88,
     "metadata": {},
     "output_type": "execute_result"
    }
   ],
   "source": [
    "cohort_quantity = retail.groupby(['CohortQuarterID', 'CohortIndex'])['Quantity'].mean().reset_index()\n",
    "cohort_quantity.rename(columns={'Quantity': 'Average Quantity'}, inplace=True)\n",
    "average_quantity  = cohort_quantity.pivot_table(index = 'CohortQuarterID',\n",
    "                                                columns = 'CohortIndex',\n",
    "                                                values = 'Average Quantity').round(1)\n",
    "average_quantity['CohortQuarter'] = average_quantity.index.map(dict(zip(quarters_map.values(),\n",
    "                                                                        quarters_map.keys())))\n",
    "average_quantity = average_quantity.set_index('CohortQuarter')\n",
    "average_quantity = average_quantity.iloc[::-1]\n",
    "average_quantity  = average_quantity.loc[cohort_retention_count.index]\n",
    "average_quantity"
   ]
  },
  {
   "cell_type": "code",
   "execution_count": 89,
   "id": "611d12a5",
   "metadata": {},
   "outputs": [
    {
     "data": {
      "image/png": "[encoded data removed]",
      "text/plain": [
       "<Figure size 864x576 with 2 Axes>"
      ]
     },
     "metadata": {
      "needs_background": "light"
     },
     "output_type": "display_data"
    }
   ],
   "source": [
    "# Seaborn의 heatmap을 사용하여 시각화\n",
    "plt.figure(figsize=(12, 8))\n",
    "heatmap = sns.heatmap(\n",
    "    data=average_quantity,\n",
    "    annot=True,                # 셀 내부에 값 표시\n",
    "    fmt='.1f',                 # 텍스트 형식 (소수점 1자리)\n",
    "    cmap='Blues',              # 색상 팔레트\n",
    "    cbar_kws={'label': 'Average Quantity'},  # 컬러바 제목\n",
    "    linewidths=0.5,            # 셀 간격\n",
    "    linecolor='gray',          # 셀 경계 색상\n",
    "    vmin=0                     # 최소값 설정 (필요 시 조정 가능)\n",
    ")\n",
    "\n",
    "# 그래프 제목 및 축 레이블 설정\n",
    "plt.title(\"Cohort Analysis: Average Quantity\", fontsize=16, pad=20)\n",
    "plt.xlabel(\"Cohorts\", fontsize=12, labelpad=10)\n",
    "plt.ylabel(\"Quarters\", fontsize=12, labelpad=10)\n",
    "\n",
    "# x축 레이블을 상단에 표시\n",
    "plt.gca().xaxis.tick_top()\n",
    "plt.gca().xaxis.set_label_position('top')\n",
    "\n",
    "# x축 레이블 각도 조정\n",
    "plt.xticks(rotation=0, ha='center')\n",
    "\n",
    "# 시각화 출력\n",
    "plt.tight_layout()\n",
    "plt.show()"
   ]
  },
  {
   "cell_type": "markdown",
   "id": "c9622bdd",
   "metadata": {},
   "source": [
    "# Revenue: ARPU 분석"
   ]
  },
  {
   "cell_type": "code",
   "execution_count": 90,
   "id": "907d9644",
   "metadata": {},
   "outputs": [
    {
     "data": {
      "image/png": "[encoded data removed]",
      "text/plain": [
       "<Figure size 864x432 with 1 Axes>"
      ]
     },
     "metadata": {
      "needs_background": "light"
     },
     "output_type": "display_data"
    }
   ],
   "source": [
    "# 1. 'InvoiceDate'를 날짜 형식으로 변환\n",
    "retail['InvoiceDate'] = pd.to_datetime(retail['InvoiceDate'])\n",
    "\n",
    "# 2. 결측치가 있는 고객 ID 제거\n",
    "retail = retail.dropna(subset=['Customer ID'])\n",
    "\n",
    "# 3. 'Customer ID'를 문자열 형식으로 변환\n",
    "retail['Customer ID'] = retail['Customer ID'].astype(str)\n",
    "\n",
    "# 4. 매출 금액 (Total) 계산\n",
    "retail['Total'] = retail['Quantity'] * retail['Price']\n",
    "\n",
    "# 5. 'YearMonth' 컬럼 생성 (연-월 단위로 분석)\n",
    "retail['YearMonth'] = retail['InvoiceDate'].dt.to_period('M')\n",
    "\n",
    "# 6. 월별 총 매출액과 활성 고객 수 계산\n",
    "monthly_revenue = retail.groupby('YearMonth')['Total'].sum()\n",
    "monthly_active_users = retail.groupby('YearMonth')['Customer ID'].nunique()\n",
    "\n",
    "# 7. ARPU (Average Revenue Per User) 계산\n",
    "arpu = monthly_revenue / monthly_active_users\n",
    "\n",
    "# 8. ARPU 시각화\n",
    "plt.figure(figsize=(12, 6))\n",
    "arpu.plot(kind='line', marker='o', color='skyblue')\n",
    "plt.title(\"Monthly ARPU (Average Revenue Per User)\")\n",
    "plt.xlabel(\"Year-Month\")\n",
    "plt.ylabel(\"ARPU (£)\")\n",
    "plt.xticks(rotation=45)\n",
    "plt.grid(True)\n",
    "plt.show()"
   ]
  },
  {
   "cell_type": "markdown",
   "id": "07122f98",
   "metadata": {},
   "source": [
    "# Revenue: CLV 분석"
   ]
  },
  {
   "cell_type": "code",
   "execution_count": 91,
   "id": "b1e7f761",
   "metadata": {},
   "outputs": [
    {
     "data": {
      "text/html": [
       "<div>\n",
       "<style scoped>\n",
       "    .dataframe tbody tr th:only-of-type {\n",
       "        vertical-align: middle;\n",
       "    }\n",
       "\n",
       "    .dataframe tbody tr th {\n",
       "        vertical-align: top;\n",
       "    }\n",
       "\n",
       "    .dataframe thead th {\n",
       "        text-align: right;\n",
       "    }\n",
       "</style>\n",
       "<table border=\"1\" class=\"dataframe\">\n",
       "  <thead>\n",
       "    <tr style=\"text-align: right;\">\n",
       "      <th></th>\n",
       "      <th>Invoice</th>\n",
       "      <th>StockCode</th>\n",
       "      <th>Description</th>\n",
       "      <th>Quantity</th>\n",
       "      <th>InvoiceDate</th>\n",
       "      <th>Price</th>\n",
       "      <th>Customer ID</th>\n",
       "      <th>Country</th>\n",
       "      <th>InvoiceDate_DT</th>\n",
       "      <th>Total</th>\n",
       "      <th>YearMonth</th>\n",
       "      <th>InvoiceQuarter</th>\n",
       "      <th>InvoiceQuarterID</th>\n",
       "      <th>CohortQuarterID</th>\n",
       "      <th>CohortQuarter</th>\n",
       "      <th>CohortIndex</th>\n",
       "    </tr>\n",
       "  </thead>\n",
       "  <tbody>\n",
       "    <tr>\n",
       "      <th>45228</th>\n",
       "      <td>493410</td>\n",
       "      <td>TEST001</td>\n",
       "      <td>This is a test product.</td>\n",
       "      <td>5</td>\n",
       "      <td>2010-01-04 09:24:00</td>\n",
       "      <td>4.50</td>\n",
       "      <td>12346</td>\n",
       "      <td>United Kingdom</td>\n",
       "      <td>2010-01-04 09:24:00</td>\n",
       "      <td>22.50</td>\n",
       "      <td>2010-01</td>\n",
       "      <td>Q1/2010</td>\n",
       "      <td>0</td>\n",
       "      <td>0</td>\n",
       "      <td>Q1/2010</td>\n",
       "      <td>0</td>\n",
       "    </tr>\n",
       "    <tr>\n",
       "      <th>45229</th>\n",
       "      <td>C493411</td>\n",
       "      <td>21539</td>\n",
       "      <td>RETRO SPOTS BUTTER DISH</td>\n",
       "      <td>-1</td>\n",
       "      <td>2010-01-04 09:43:00</td>\n",
       "      <td>4.25</td>\n",
       "      <td>14590</td>\n",
       "      <td>United Kingdom</td>\n",
       "      <td>2010-01-04 09:43:00</td>\n",
       "      <td>-4.25</td>\n",
       "      <td>2010-01</td>\n",
       "      <td>Q1/2010</td>\n",
       "      <td>0</td>\n",
       "      <td>0</td>\n",
       "      <td>Q1/2010</td>\n",
       "      <td>0</td>\n",
       "    </tr>\n",
       "    <tr>\n",
       "      <th>45230</th>\n",
       "      <td>493412</td>\n",
       "      <td>TEST001</td>\n",
       "      <td>This is a test product.</td>\n",
       "      <td>5</td>\n",
       "      <td>2010-01-04 09:53:00</td>\n",
       "      <td>4.50</td>\n",
       "      <td>12346</td>\n",
       "      <td>United Kingdom</td>\n",
       "      <td>2010-01-04 09:53:00</td>\n",
       "      <td>22.50</td>\n",
       "      <td>2010-01</td>\n",
       "      <td>Q1/2010</td>\n",
       "      <td>0</td>\n",
       "      <td>0</td>\n",
       "      <td>Q1/2010</td>\n",
       "      <td>0</td>\n",
       "    </tr>\n",
       "    <tr>\n",
       "      <th>45238</th>\n",
       "      <td>493414</td>\n",
       "      <td>21527</td>\n",
       "      <td>RETRO SPOT TRADITIONAL TEAPOT</td>\n",
       "      <td>12</td>\n",
       "      <td>2010-01-04 10:28:00</td>\n",
       "      <td>6.95</td>\n",
       "      <td>14590</td>\n",
       "      <td>United Kingdom</td>\n",
       "      <td>2010-01-04 10:28:00</td>\n",
       "      <td>83.40</td>\n",
       "      <td>2010-01</td>\n",
       "      <td>Q1/2010</td>\n",
       "      <td>0</td>\n",
       "      <td>0</td>\n",
       "      <td>Q1/2010</td>\n",
       "      <td>0</td>\n",
       "    </tr>\n",
       "    <tr>\n",
       "      <th>45237</th>\n",
       "      <td>493414</td>\n",
       "      <td>35001G</td>\n",
       "      <td>HAND OPEN SHAPE GOLD</td>\n",
       "      <td>2</td>\n",
       "      <td>2010-01-04 10:28:00</td>\n",
       "      <td>4.25</td>\n",
       "      <td>14590</td>\n",
       "      <td>United Kingdom</td>\n",
       "      <td>2010-01-04 10:28:00</td>\n",
       "      <td>8.50</td>\n",
       "      <td>2010-01</td>\n",
       "      <td>Q1/2010</td>\n",
       "      <td>0</td>\n",
       "      <td>0</td>\n",
       "      <td>Q1/2010</td>\n",
       "      <td>0</td>\n",
       "    </tr>\n",
       "  </tbody>\n",
       "</table>\n",
       "</div>"
      ],
      "text/plain": [
       "       Invoice StockCode                     Description  Quantity  \\\n",
       "45228   493410   TEST001         This is a test product.         5   \n",
       "45229  C493411     21539         RETRO SPOTS BUTTER DISH        -1   \n",
       "45230   493412   TEST001         This is a test product.         5   \n",
       "45238   493414     21527  RETRO SPOT TRADITIONAL TEAPOT         12   \n",
       "45237   493414    35001G            HAND OPEN SHAPE GOLD         2   \n",
       "\n",
       "              InvoiceDate  Price Customer ID         Country  \\\n",
       "45228 2010-01-04 09:24:00   4.50       12346  United Kingdom   \n",
       "45229 2010-01-04 09:43:00   4.25       14590  United Kingdom   \n",
       "45230 2010-01-04 09:53:00   4.50       12346  United Kingdom   \n",
       "45238 2010-01-04 10:28:00   6.95       14590  United Kingdom   \n",
       "45237 2010-01-04 10:28:00   4.25       14590  United Kingdom   \n",
       "\n",
       "           InvoiceDate_DT  Total YearMonth InvoiceQuarter  InvoiceQuarterID  \\\n",
       "45228 2010-01-04 09:24:00  22.50   2010-01        Q1/2010                 0   \n",
       "45229 2010-01-04 09:43:00  -4.25   2010-01        Q1/2010                 0   \n",
       "45230 2010-01-04 09:53:00  22.50   2010-01        Q1/2010                 0   \n",
       "45238 2010-01-04 10:28:00  83.40   2010-01        Q1/2010                 0   \n",
       "45237 2010-01-04 10:28:00   8.50   2010-01        Q1/2010                 0   \n",
       "\n",
       "       CohortQuarterID CohortQuarter  CohortIndex  \n",
       "45228                0       Q1/2010            0  \n",
       "45229                0       Q1/2010            0  \n",
       "45230                0       Q1/2010            0  \n",
       "45238                0       Q1/2010            0  \n",
       "45237                0       Q1/2010            0  "
      ]
     },
     "execution_count": 91,
     "metadata": {},
     "output_type": "execute_result"
    }
   ],
   "source": [
    "retail.head()"
   ]
  },
  {
   "cell_type": "code",
   "execution_count": 92,
   "id": "615a1f8f",
   "metadata": {},
   "outputs": [
    {
     "data": {
      "text/html": [
       "<div>\n",
       "<style scoped>\n",
       "    .dataframe tbody tr th:only-of-type {\n",
       "        vertical-align: middle;\n",
       "    }\n",
       "\n",
       "    .dataframe tbody tr th {\n",
       "        vertical-align: top;\n",
       "    }\n",
       "\n",
       "    .dataframe thead th {\n",
       "        text-align: right;\n",
       "    }\n",
       "</style>\n",
       "<table border=\"1\" class=\"dataframe\">\n",
       "  <thead>\n",
       "    <tr style=\"text-align: right;\">\n",
       "      <th></th>\n",
       "      <th>Customer ID</th>\n",
       "      <th>CLV</th>\n",
       "      <th>Total Revenue</th>\n",
       "      <th>Frequency</th>\n",
       "      <th>Customer Lifespan (days)</th>\n",
       "    </tr>\n",
       "  </thead>\n",
       "  <tbody>\n",
       "    <tr>\n",
       "      <th>9</th>\n",
       "      <td>12357</td>\n",
       "      <td>12079.99</td>\n",
       "      <td>12079.99</td>\n",
       "      <td>165</td>\n",
       "      <td>0</td>\n",
       "    </tr>\n",
       "    <tr>\n",
       "      <th>930</th>\n",
       "      <td>13687</td>\n",
       "      <td>11880.84</td>\n",
       "      <td>11880.84</td>\n",
       "      <td>45</td>\n",
       "      <td>0</td>\n",
       "    </tr>\n",
       "    <tr>\n",
       "      <th>4093</th>\n",
       "      <td>18052</td>\n",
       "      <td>10877.18</td>\n",
       "      <td>10877.18</td>\n",
       "      <td>16</td>\n",
       "      <td>0</td>\n",
       "    </tr>\n",
       "    <tr>\n",
       "      <th>241</th>\n",
       "      <td>12737</td>\n",
       "      <td>3710.50</td>\n",
       "      <td>3710.50</td>\n",
       "      <td>2</td>\n",
       "      <td>0</td>\n",
       "    </tr>\n",
       "    <tr>\n",
       "      <th>536</th>\n",
       "      <td>13139</td>\n",
       "      <td>3138.04</td>\n",
       "      <td>3138.04</td>\n",
       "      <td>95</td>\n",
       "      <td>0</td>\n",
       "    </tr>\n",
       "    <tr>\n",
       "      <th>...</th>\n",
       "      <td>...</td>\n",
       "      <td>...</td>\n",
       "      <td>...</td>\n",
       "      <td>...</td>\n",
       "      <td>...</td>\n",
       "    </tr>\n",
       "    <tr>\n",
       "      <th>3300</th>\n",
       "      <td>16981</td>\n",
       "      <td>-4620.86</td>\n",
       "      <td>-4620.86</td>\n",
       "      <td>1</td>\n",
       "      <td>0</td>\n",
       "    </tr>\n",
       "    <tr>\n",
       "      <th>2418</th>\n",
       "      <td>15760</td>\n",
       "      <td>-5795.87</td>\n",
       "      <td>-5795.87</td>\n",
       "      <td>5</td>\n",
       "      <td>0</td>\n",
       "    </tr>\n",
       "    <tr>\n",
       "      <th>2478</th>\n",
       "      <td>15849</td>\n",
       "      <td>-5876.34</td>\n",
       "      <td>-5876.34</td>\n",
       "      <td>1</td>\n",
       "      <td>0</td>\n",
       "    </tr>\n",
       "    <tr>\n",
       "      <th>373</th>\n",
       "      <td>12918</td>\n",
       "      <td>-10953.50</td>\n",
       "      <td>-10953.50</td>\n",
       "      <td>3</td>\n",
       "      <td>0</td>\n",
       "    </tr>\n",
       "    <tr>\n",
       "      <th>3620</th>\n",
       "      <td>17399</td>\n",
       "      <td>-25111.09</td>\n",
       "      <td>-25111.09</td>\n",
       "      <td>1</td>\n",
       "      <td>0</td>\n",
       "    </tr>\n",
       "  </tbody>\n",
       "</table>\n",
       "<p>4258 rows × 5 columns</p>\n",
       "</div>"
      ],
      "text/plain": [
       "     Customer ID       CLV  Total Revenue  Frequency  Customer Lifespan (days)\n",
       "9          12357  12079.99       12079.99        165                         0\n",
       "930        13687  11880.84       11880.84         45                         0\n",
       "4093       18052  10877.18       10877.18         16                         0\n",
       "241        12737   3710.50        3710.50          2                         0\n",
       "536        13139   3138.04        3138.04         95                         0\n",
       "...          ...       ...            ...        ...                       ...\n",
       "3300       16981  -4620.86       -4620.86          1                         0\n",
       "2418       15760  -5795.87       -5795.87          5                         0\n",
       "2478       15849  -5876.34       -5876.34          1                         0\n",
       "373        12918 -10953.50      -10953.50          3                         0\n",
       "3620       17399 -25111.09      -25111.09          1                         0\n",
       "\n",
       "[4258 rows x 5 columns]"
      ]
     },
     "execution_count": 92,
     "metadata": {},
     "output_type": "execute_result"
    }
   ],
   "source": [
    "# 고객별 집계\n",
    "customer_df = retail.groupby(\"Customer ID\").agg({\n",
    "    \"InvoiceDate\": [\"min\", \"max\", \"count\"],\n",
    "    \"Total\": [\"sum\", \"mean\"]\n",
    "}).reset_index()\n",
    "\n",
    "# 컬럼 정리\n",
    "customer_df.columns = [\"Customer ID\", \"First Purchase\", \"Last Purchase\", \"Frequency\", \"Total Revenue\", \"Average Revenue\"]\n",
    "\n",
    "# 고객 생애 계산\n",
    "customer_df[\"Customer Lifespan (days)\"] = (customer_df[\"Last Purchase\"] - customer_df[\"First Purchase\"]).dt.days\n",
    "\n",
    "# CLV 계산\n",
    "customer_df[\"CLV\"] = customer_df[\"Average Revenue\"] * customer_df[\"Frequency\"] / (customer_df[\"Customer Lifespan (days)\"]+1)\n",
    "\n",
    "# 결과 확인\n",
    "customer_df = customer_df[[\"Customer ID\", \"CLV\", \"Total Revenue\", \"Frequency\", \"Customer Lifespan (days)\"]]\n",
    "customer_df = customer_df.sort_values(by=\"CLV\", ascending=False)\n",
    "customer_df"
   ]
  },
  {
   "cell_type": "code",
   "execution_count": 94,
   "id": "394fc032",
   "metadata": {},
   "outputs": [
    {
     "data": {
      "text/html": [
       "<div>\n",
       "<style scoped>\n",
       "    .dataframe tbody tr th:only-of-type {\n",
       "        vertical-align: middle;\n",
       "    }\n",
       "\n",
       "    .dataframe tbody tr th {\n",
       "        vertical-align: top;\n",
       "    }\n",
       "\n",
       "    .dataframe thead th {\n",
       "        text-align: right;\n",
       "    }\n",
       "</style>\n",
       "<table border=\"1\" class=\"dataframe\">\n",
       "  <thead>\n",
       "    <tr style=\"text-align: right;\">\n",
       "      <th></th>\n",
       "      <th>Customer ID</th>\n",
       "      <th>CLV</th>\n",
       "      <th>Total Revenue</th>\n",
       "      <th>Frequency</th>\n",
       "      <th>Customer Lifespan (days)</th>\n",
       "    </tr>\n",
       "  </thead>\n",
       "  <tbody>\n",
       "    <tr>\n",
       "      <th>3300</th>\n",
       "      <td>16981</td>\n",
       "      <td>-4620.86</td>\n",
       "      <td>-4620.86</td>\n",
       "      <td>1</td>\n",
       "      <td>0</td>\n",
       "    </tr>\n",
       "  </tbody>\n",
       "</table>\n",
       "</div>"
      ],
      "text/plain": [
       "     Customer ID      CLV  Total Revenue  Frequency  Customer Lifespan (days)\n",
       "3300       16981 -4620.86       -4620.86          1                         0"
      ]
     },
     "execution_count": 94,
     "metadata": {},
     "output_type": "execute_result"
    }
   ],
   "source": [
    "customer_df[customer_df['Customer ID'] == '16981']"
   ]
  },
  {
   "cell_type": "markdown",
   "id": "7a1652f7",
   "metadata": {},
   "source": [
    "# 균등분포 문제"
   ]
  },
  {
   "cell_type": "code",
   "execution_count": null,
   "id": "1a1c2f9e",
   "metadata": {},
   "outputs": [],
   "source": [
    "어떤 회사의 고객 대기시간은 5분에서 15분 사이의 균등분포를 따릅니다. \n",
    "고객 100명이 대기한 시간을 시뮬레이션하고, 평균 대기시간과 표준편차를 계산하세요."
   ]
  },
  {
   "cell_type": "code",
   "execution_count": 95,
   "id": "beaf00f1",
   "metadata": {},
   "outputs": [
    {
     "name": "stdout",
     "output_type": "stream",
     "text": [
      "평균 대기시간: 10.12\n",
      "표준편차: 3.02\n"
     ]
    }
   ],
   "source": [
    "import numpy as np\n",
    "\n",
    "# 시뮬레이션\n",
    "a, b = 5, 15  # 균등분포의 최소값과 최대값\n",
    "samples = np.random.uniform(a, b, size=100)\n",
    "\n",
    "# 평균과 표준편차 계산\n",
    "mean_waiting_time = np.mean(samples)\n",
    "std_waiting_time = np.std(samples)\n",
    "\n",
    "print(f\"평균 대기시간: {mean_waiting_time:.2f}\")\n",
    "print(f\"표준편차: {std_waiting_time:.2f}\")"
   ]
  },
  {
   "cell_type": "markdown",
   "id": "c7577c63",
   "metadata": {},
   "source": [
    "# 베르누이 분포 문제"
   ]
  },
  {
   "cell_type": "code",
   "execution_count": null,
   "id": "3879884f",
   "metadata": {},
   "outputs": [],
   "source": [
    "한 신제품의 초기 성공 확률이 0.3이라고 가정합니다. 10회의 시뮬레이션에서 성공한 횟수를 구하고, 각 성공 여부를 출력하세요."
   ]
  },
  {
   "cell_type": "code",
   "execution_count": 99,
   "id": "9c3906bd",
   "metadata": {},
   "outputs": [
    {
     "name": "stdout",
     "output_type": "stream",
     "text": [
      "시도 결과: [1 0 0 1 0 0 0 1 1 0]\n",
      "성공 횟수: 4\n"
     ]
    }
   ],
   "source": [
    "from scipy.stats import bernoulli\n",
    "\n",
    "# 성공 확률\n",
    "p = 0.3\n",
    "n_trials = 10\n",
    "\n",
    "# 베르누이 분포 샘플 생성\n",
    "outcomes = bernoulli.rvs(p, size=n_trials)\n",
    "success_count = sum(outcomes)\n",
    "\n",
    "print(f\"시도 결과: {outcomes}\")\n",
    "print(f\"성공 횟수: {success_count}\")"
   ]
  },
  {
   "cell_type": "markdown",
   "id": "dce3488b",
   "metadata": {},
   "source": [
    "# 이항분포 문제"
   ]
  },
  {
   "cell_type": "code",
   "execution_count": null,
   "id": "d3de21ed",
   "metadata": {},
   "outputs": [],
   "source": [
    "한 수업에서 학생 20명이 5문제로 구성된 퀴즈를 치릅니다. \n",
    "각 문제의 정답 확률은 0.7이라고 가정할 때, 각 학생이 맞힌 점수를 시뮬레이션하고, 전체 학생의 평균 점수를 계산하세요."
   ]
  },
  {
   "cell_type": "code",
   "execution_count": 97,
   "id": "8c0ab876",
   "metadata": {},
   "outputs": [
    {
     "name": "stdout",
     "output_type": "stream",
     "text": [
      "학생별 점수: [4 4 5 2 3 4 3 4 4 4 3 3 3 3 1 3 3 3 3 3]\n",
      "평균 점수: 3.25\n"
     ]
    }
   ],
   "source": [
    "from scipy.stats import binom\n",
    "\n",
    "# 이항 분포 파라미터\n",
    "n_questions = 5\n",
    "p_correct = 0.7\n",
    "n_students = 20\n",
    "\n",
    "# 각 학생의 점수 시뮬레이션\n",
    "scores = binom.rvs(n_questions, p_correct, size=n_students)\n",
    "\n",
    "# 평균 점수 계산\n",
    "average_score = np.mean(scores)\n",
    "\n",
    "print(f\"학생별 점수: {scores}\")\n",
    "print(f\"평균 점수: {average_score:.2f}\")"
   ]
  },
  {
   "cell_type": "markdown",
   "id": "4d96b5a2",
   "metadata": {},
   "source": [
    "# 정규분포 문제"
   ]
  },
  {
   "cell_type": "code",
   "execution_count": null,
   "id": "6d5c533c",
   "metadata": {},
   "outputs": [],
   "source": [
    "한 공장에서 생산되는 제품의 무게는 평균 50g, 표준편차 5g의 정규분포를 따릅니다.\n",
    "1000개의 제품 무게를 시뮬레이션하고, 무게가 45g 이상 55g 이하인 제품의 비율을 계산하세요. 무게 분포의 히스토그램을 그리세요.\n",
    "\n",
    "weights: 샘플 생성하여 저장하는 자료형 변수"
   ]
  },
  {
   "cell_type": "code",
   "execution_count": 100,
   "id": "8e4e8ddb",
   "metadata": {},
   "outputs": [
    {
     "data": {
      "image/png": "[encoded data removed]",
      "text/plain": [
       "<Figure size 432x288 with 1 Axes>"
      ]
     },
     "metadata": {
      "needs_background": "light"
     },
     "output_type": "display_data"
    },
    {
     "name": "stdout",
     "output_type": "stream",
     "text": [
      "45g 이상 55g 이하 비율: 69.60%\n"
     ]
    }
   ],
   "source": [
    "import matplotlib.pyplot as plt\n",
    "from scipy.stats import norm\n",
    "\n",
    "# 정규 분포 파라미터\n",
    "mu, sigma = 50, 5\n",
    "n_samples = 1000\n",
    "\n",
    "# 샘플 생성\n",
    "weights = np.random.normal(mu, sigma, size=n_samples)\n",
    "\n",
    "# 45g 이상 55g 이하의 비율 계산\n",
    "lower_bound, upper_bound = 45, 55\n",
    "within_range = ((weights >= lower_bound) & (weights <= upper_bound)).mean()\n",
    "\n",
    "# 히스토그램 그리기\n",
    "plt.hist(weights, bins=30, density=True, alpha=0.7, label=\"Weights\")\n",
    "x = np.linspace(mu - 4*sigma, mu + 4*sigma, 100)\n",
    "plt.plot(x, norm.pdf(x, mu, sigma), 'r-', label=\"PDF\")\n",
    "plt.xlabel(\"Weight (g)\")\n",
    "plt.ylabel(\"Density\")\n",
    "plt.title(\"Product Weight Distribution\")\n",
    "plt.legend()\n",
    "plt.show()\n",
    "\n",
    "print(f\"45g 이상 55g 이하 비율: {within_range:.2%}\")"
   ]
  },
  {
   "cell_type": "code",
   "execution_count": null,
   "id": "62102455",
   "metadata": {},
   "outputs": [],
   "source": []
  }
 ],
 "metadata": {
  "kernelspec": {
   "display_name": "Python 3 (ipykernel)",
   "language": "python",
   "name": "python3"
  },
  "language_info": {
   "codemirror_mode": {
    "name": "ipython",
    "version": 3
   },
   "file_extension": ".py",
   "mimetype": "text/x-python",
   "name": "python",
   "nbconvert_exporter": "python",
   "pygments_lexer": "ipython3",
   "version": "3.9.7"
  }
 },
 "nbformat": 4,
 "nbformat_minor": 5
}
