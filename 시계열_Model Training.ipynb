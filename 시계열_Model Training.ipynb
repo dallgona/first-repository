{
 "cells": [
  {
   "cell_type": "markdown",
   "id": "8cf2e47d",
   "metadata": {},
   "source": [
    "# Model Training"
   ]
  },
  {
   "cell_type": "markdown",
   "id": "8b9397d5",
   "metadata": {},
   "source": [
    "PKFold 및 Model Traning\n",
    "\n",
    "① 환경 구성\n",
    "라이브러리 불러오기\n",
    "데이터 불러오기\n",
    "\n",
    "② Purged K-fold for Cross-Validation\n",
    "기존의 Cross-Validation의 취약점인 Overfitting을 보완하기 위한 PKFold Cross Validation 사용\n",
    "\n",
    "③ Find the best param for bagging(RandomForest) with grid-search\n",
    "\n",
    "다음 순서로 학습 진행 (RandomForest -> Bagging -> GridSearchCV)\n",
    "Bagging은 RandomForest Classifier를 통해 생긴 오차의 분산을 줄이기 위해 사용\n",
    "GridSearchCV는 최적의 Parameter 값을 얻기 위해 사용"
   ]
  },
  {
   "cell_type": "markdown",
   "id": "43a10b5a",
   "metadata": {},
   "source": [
    "# 1. 환경구성 및 데이터 불러오기"
   ]
  },
  {
   "cell_type": "code",
   "execution_count": 1,
   "id": "ac0a3122",
   "metadata": {},
   "outputs": [],
   "source": [
    "import datetime\n",
    "import sys\n",
    "import os\n",
    "import re\n",
    "import io\n",
    "import json\n",
    "import numpy as np\n",
    "import pandas as pd\n",
    "import matplotlib.pyplot as plt\n",
    "import ta\n",
    "\n",
    "from sklearn.preprocessing import StandardScaler\n",
    "from sklearn.model_selection import GridSearchCV\n",
    "from sklearn.model_selection import KFold\n",
    "from sklearn.ensemble import RandomForestClassifier, BaggingClassifier\n",
    "from sklearn.metrics import accuracy_score, precision_score, recall_score, confusion_matrix, f1_score, roc_auc_score, roc_curve\n",
    "\n",
    "sys.path.append('/aiffel/aiffel/fnguide/data/')\n",
    "from libs.mlutil.pkfold import PKFold"
   ]
  },
  {
   "cell_type": "code",
   "execution_count": 2,
   "id": "b1d29b73",
   "metadata": {},
   "outputs": [],
   "source": [
    "DATA_PATH = '/aiffel/aiffel/fnguide/data/'\n",
    "data_file_name = os.path.join(DATA_PATH, 'sub_upbit_eth_min_feature_labels.pkl')"
   ]
  },
  {
   "cell_type": "code",
   "execution_count": 3,
   "id": "71fb811d",
   "metadata": {},
   "outputs": [],
   "source": [
    "df_data = pd.read_pickle(data_file_name)\n",
    "df_data['t_value'] = df_data['t_value'].apply(lambda x: x if x == 1 else 0)"
   ]
  },
  {
   "cell_type": "code",
   "execution_count": 4,
   "id": "3395c30c",
   "metadata": {},
   "outputs": [
    {
     "data": {
      "text/plain": [
       "1.0    481\n",
       "0.0    476\n",
       "Name: t_value, dtype: int64"
      ]
     },
     "execution_count": 4,
     "metadata": {},
     "output_type": "execute_result"
    }
   ],
   "source": [
    "df_data['t_value'].value_counts()"
   ]
  },
  {
   "cell_type": "code",
   "execution_count": 5,
   "id": "4119c4f3",
   "metadata": {},
   "outputs": [],
   "source": [
    "train_ratio, test_ratio = 0.7, 0.2\n",
    "n_train = int(np.round(len(df_data) * train_ratio))\n",
    "n_test = int(np.round(len(df_data) * test_ratio))"
   ]
  },
  {
   "cell_type": "code",
   "execution_count": 6,
   "id": "26296df2",
   "metadata": {},
   "outputs": [],
   "source": [
    "X, y = df_data.iloc[:, 5:-1], df_data.iloc[:, -1]\n",
    "\n",
    "sc = StandardScaler()\n",
    "X_sc = sc.fit_transform(X)"
   ]
  },
  {
   "cell_type": "code",
   "execution_count": 7,
   "id": "9313e4a5",
   "metadata": {},
   "outputs": [],
   "source": [
    "train_x, test_x, train_y, test_y = X_sc[:n_train, :], X_sc[-n_test:, :], y.iloc[:n_train], y.iloc[-n_test:]\n",
    "\n",
    "train_x = pd.DataFrame(train_x, index=train_y.index, columns=X.columns)\n",
    "train_y = pd.Series(train_y, index=train_y.index)\n",
    "test_x = pd.DataFrame(test_x, index=test_y.index, columns=X.columns)\n",
    "test_y = pd.Series(test_y, index=test_y.index)\n",
    "\n",
    "# 학습 시간 단축을 위해 여기선 편의상 1000개의 데이터만 가져옵니다.\n",
    "train_x = train_x[:1000]\n",
    "train_y = train_y[:1000]"
   ]
  },
  {
   "cell_type": "markdown",
   "id": "874c8d6e",
   "metadata": {},
   "source": [
    "# 2. Purged K-fold for Cross-Validation"
   ]
  },
  {
   "cell_type": "markdown",
   "id": "a804f764",
   "metadata": {},
   "source": [
    "Cross-Validation은 학습시 과적합을 막기 위한 하나의 방도로 데이터를 K개의 부분집합으로 나누어, K-1개의 부분집합으로 학습을 진행하고, 나머지 하나의 부분집합으로 검증을 진행하는 방식입니다. 여기서 소개하는 Purged라는 개념은 학습데이터와 검증데이터를 나눌 때 두 시계열 사이의 연관성을 최대한 배제하기 위한 방법입니다.\n",
    "\n",
    "일단, K-fold CV의 단점부터 알아보겠습니다.\n",
    "관측치들이 Independent & Identical Distribution, IID 상태에서 추출됐다고 가정하기 어렵습니다.\n",
    "테스트 집합 또한 모델 개발 과정에서 여러번 반복하여 사용되었을 가능성이 높습니다.\n",
    "이 과정에서 여러 Bias가 반영되었을 가능성이 농후합니다.\n",
    "정보 누수, Leakage는 학습데이터에 검증데이터와 유사한 패턴이 많이 담길수록 정도가 심해지는 경향이 있습니다.\n",
    "\n",
    "자기상관이 강한 시계열의 Feature X, 그와 관련된 Label Y가 있다고 가정해 봅시다.\n",
    "자기상관이 강한 시계열이며, Label이 중첩되어 있는 데이터에 의해 유도.\n",
    "이 경우, time t와 t+l의 데이터를 학습데이터와 검증데이터에 각각 둔다면, 정보의 누수가 발생됩니다.\n",
    "예를 들어, t시점에 대한 데이터가 학습에, t+l에 대한 데이터가 검증데이터에 있다면,\n",
    "이 학습데이터로 학습된 분류기는 학습데이터에서 이미 경험한 t+l에 대한 예측성능이 좋을 것입니다.\n",
    "이러한 데이터가 많으면 많을수록 분류기의 성능은 과대하게 좋은 것으로 인식될 공산이 큽니다.\n",
    "따라서, 정보의 누수를 최대한 줄이는 것이 분류기 성능의 객관성을 확보하는데 관건이 됩니다.\n"
   ]
  },
  {
   "cell_type": "markdown",
   "id": "fd1eaa56",
   "metadata": {},
   "source": [
    "어떻게 해야 이를 줄일 수 있을까요?\n",
    "\n",
    "모든 관측값에 대해 학습데이터와 검증데이터가 최대한 상관되지 않도록 시계열 집합간 일종의 시간차를 둡니다.\n",
    "분류기의 Overfitting을 막기 위한 방안을 사용합니다. (Early Stopping, Regulization 등)\n",
    "여기서, 시계열 집합간 일종의 시간차를 두는 것을 Purged 라고 합니다.\n",
    "여기서는 PKFold 클래스를 통해 이를 구현합니다."
   ]
  },
  {
   "cell_type": "code",
   "execution_count": 8,
   "id": "021ed639",
   "metadata": {},
   "outputs": [],
   "source": [
    "n_cv = 4\n",
    "t1 = pd.Series(train_y.index.values, index=train_y.index)\n",
    "# purged K-Fold\n",
    "cv = PKFold(n_cv, t1, 0)"
   ]
  },
  {
   "cell_type": "markdown",
   "id": "8158c641",
   "metadata": {},
   "source": [
    "# 3. Find the best param for bagging(RandomForest) with grid-search"
   ]
  },
  {
   "cell_type": "markdown",
   "id": "c83317de",
   "metadata": {},
   "source": [
    "ROC 곡선은 다양한 임계값에서 모델의 분류 성능에 대한 측정 그래프이며 좋은 성능의 분류 모델은 AUC 값이 1에 가까워집니다. 반대로 성능이 좋지 못한 분류 모델의 경우 0에 가까워집니다. 이 말의 뜻은 분류를 정확히 하지 못하는 경우를 말합니다.\n",
    "\n",
    "ROC, Receiver Operating Characteristic : 그래프에서 곡선으로 휘어지거나 계단형태로 나타나는 부분\n",
    "AUC, Area Under the Curve : 그래프에서 곡선 혹은 계단형태 아래에 해당하는 영역"
   ]
  },
  {
   "cell_type": "code",
   "execution_count": 9,
   "id": "5bc12fd5",
   "metadata": {},
   "outputs": [
    {
     "name": "stdout",
     "output_type": "stream",
     "text": [
      "Fitting 4 folds for each of 288 candidates, totalling 1152 fits\n"
     ]
    }
   ],
   "source": [
    "# 최대 20분정도가 소요됩니다. 시간이 부족하다면 파라미터를 조절하여 진행하세요.\n",
    "bc_params = {'n_estimators': [5, 10, 20],\n",
    "             'max_features': [0.5, 0.7],\n",
    "             'base_estimator__max_depth': [3,5,10,20],\n",
    "             'base_estimator__max_features': [None, 'auto'],\n",
    "             'base_estimator__min_samples_leaf': [3, 5, 10],\n",
    "             'bootstrap_features': [False, True]\n",
    "            }\n",
    "             \n",
    "rfc = RandomForestClassifier(class_weight='balanced')\n",
    "bag_rfc = BaggingClassifier(rfc)\n",
    "gs_rfc = GridSearchCV(bag_rfc, bc_params, cv=cv, n_jobs=-1, verbose=1)\n",
    "gs_rfc.fit(train_x, train_y)\n",
    "gs_rfc_best = gs_rfc.best_estimator_"
   ]
  },
  {
   "cell_type": "code",
   "execution_count": 12,
   "id": "f4f3dec1",
   "metadata": {},
   "outputs": [
    {
     "data": {
      "text/plain": [
       "BaggingClassifier(base_estimator=RandomForestClassifier(class_weight='balanced',\n",
       "                                                        max_depth=20,\n",
       "                                                        max_features=None,\n",
       "                                                        min_samples_leaf=10),\n",
       "                  max_features=0.7)"
      ]
     },
     "execution_count": 12,
     "metadata": {},
     "output_type": "execute_result"
    }
   ],
   "source": [
    "gs_rfc_best.fit(train_x, train_y)"
   ]
  },
  {
   "cell_type": "code",
   "execution_count": 13,
   "id": "b9f82889",
   "metadata": {},
   "outputs": [],
   "source": [
    "pred_y = gs_rfc_best.predict(test_x)\n",
    "prob_y = gs_rfc_best.predict_proba(test_x)"
   ]
  },
  {
   "cell_type": "code",
   "execution_count": 14,
   "id": "e20252f5",
   "metadata": {},
   "outputs": [
    {
     "name": "stdout",
     "output_type": "stream",
     "text": [
      "================= confusion matrix ====================\n",
      "[[86 50]\n",
      " [12 43]]\n",
      "=======================================================\n",
      "정확도:0.675392670157068, 정밀도:0.46236559139784944, 재현율:0.7818181818181819\n"
     ]
    }
   ],
   "source": [
    "confusion = confusion_matrix(test_y, pred_y)\n",
    "accuracy  = accuracy_score(test_y, pred_y)\n",
    "precision = precision_score(test_y, pred_y)\n",
    "recall    = recall_score(test_y, pred_y)\n",
    "\n",
    "print('================= confusion matrix ====================')\n",
    "print(confusion)\n",
    "print('=======================================================')\n",
    "print(f'정확도:{accuracy}, 정밀도:{precision}, 재현율:{recall}')"
   ]
  },
  {
   "cell_type": "code",
   "execution_count": 15,
   "id": "053a31b5",
   "metadata": {},
   "outputs": [
    {
     "name": "stdout",
     "output_type": "stream",
     "text": [
      "auc:0.7070855614973262\n"
     ]
    },
    {
     "data": {
      "image/png": "[encoded data removed]",
      "text/plain": [
       "<Figure size 432x288 with 1 Axes>"
      ]
     },
     "metadata": {
      "needs_background": "light"
     },
     "output_type": "display_data"
    }
   ],
   "source": [
    "fpr, tpr, thresholds = roc_curve(test_y, pred_y)\n",
    "auc = roc_auc_score(test_y, pred_y)\n",
    "plt.plot(fpr, tpr, linewidth=2)\n",
    "plt.plot([0, 1], [0, 1], 'k--') # dashed diagonal\n",
    "plt.xlabel('fpr')\n",
    "plt.ylabel('tpr')\n",
    "print(f'auc:{auc}')"
   ]
  },
  {
   "cell_type": "code",
   "execution_count": null,
   "id": "fc156288",
   "metadata": {},
   "outputs": [],
   "source": []
  }
 ],
 "metadata": {
  "kernelspec": {
   "display_name": "Python 3 (ipykernel)",
   "language": "python",
   "name": "python3"
  },
  "language_info": {
   "codemirror_mode": {
    "name": "ipython",
    "version": 3
   },
   "file_extension": ".py",
   "mimetype": "text/x-python",
   "name": "python",
   "nbconvert_exporter": "python",
   "pygments_lexer": "ipython3",
   "version": "3.9.7"
  }
 },
 "nbformat": 4,
 "nbformat_minor": 5
}
