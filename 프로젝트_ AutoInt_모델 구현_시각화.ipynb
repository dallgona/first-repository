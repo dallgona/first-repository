{
 "cells": [
  {
   "cell_type": "markdown",
   "id": "83a961f3",
   "metadata": {},
   "source": [
    "# 프로젝트: AutoInt+ 모델 구현 및 시각화"
   ]
  },
  {
   "cell_type": "markdown",
   "id": "08754781",
   "metadata": {},
   "source": [
    "일단 제출합니다."
   ]
  },
  {
   "cell_type": "code",
   "execution_count": null,
   "id": "84c1b0a7",
   "metadata": {},
   "outputs": [],
   "source": [
    "# 파이토치 코드 \n",
    "class AutoIntMLP(nn.Module):\n",
    "\n",
    "    def __init__(self, field_dims, embedding_size, att_layer_num=3, att_head_num=2, att_res=True, dnn_hidden_units=(32, 32), dnn_activation='relu',\n",
    "                 l2_reg_dnn=0, l2_reg_embedding=1e-5, dnn_use_bn=False, dnn_dropout=0.4, init_std=0.0001, device='cpu'):\n",
    "\n",
    "        super(AutoIntMLP, self).__init__()\n",
    "        self.embedding = FeaturesEmbedding(field_dims, embed_dim)\n",
    "        self.num_fields = len(field_dims)\n",
    "        self.embedding_size = embedding_size\n",
    "        self.att_output_dim = self.num_fields * self.embedding_size\n",
    "        self.embed_output_dim = len(field_dims) * embed_dim\n",
    "\n",
    "        self.dnn_linear = nn.Linear(self.att_output_dim, 1, bias=False).to(device)\n",
    "        self.dnn_hidden_units = dnn_hidden_units\n",
    "        self.att_layer_num = att_layer_num\n",
    "        self.dnn = MultiLayerPerceptron(self.embed_output_dim, dnn_hidden_units,\n",
    "                           activation=dnn_activation, l2_reg=l2_reg_dnn, dropout_rate=dnn_dropout, use_bn=dnn_use_bn,\n",
    "                           init_std=init_std, output_layer=True, device=device)\n",
    "        self.int_layers = nn.ModuleList(\n",
    "            [MultiHeadSelfAttention(self.embedding_size, att_head_num, att_res, device=device) for _ in range(att_layer_num)])\n",
    "\n",
    "        self.to(device)\n",
    "\n",
    "    def forward(self, X):\n",
    "        embed_x = self.embedding(X)\n",
    "        dnn_embed = embed_x\n",
    "        att_input = embed_x\n",
    "        \n",
    "        for cnt, layer in enumerate(self.int_layers):\n",
    "            att_input = layer(att_input)\n",
    "            \n",
    "        att_output = torch.flatten(att_input, start_dim=1)\n",
    "        \n",
    "        att_output = F.relu(self.dnn_linear(att_output))\n",
    "        # autoint MLP\n",
    "        dnn_output = self.dnn(dnn_embed.view(-1, self.embed_output_dim))\n",
    "        \n",
    "        y_pred = torch.sigmoid(att_output + dnn_output)\n",
    "\n",
    "        return y_pred"
   ]
  }
 ],
 "metadata": {
  "kernelspec": {
   "display_name": "Python 3 (ipykernel)",
   "language": "python",
   "name": "python3"
  },
  "language_info": {
   "codemirror_mode": {
    "name": "ipython",
    "version": 3
   },
   "file_extension": ".py",
   "mimetype": "text/x-python",
   "name": "python",
   "nbconvert_exporter": "python",
   "pygments_lexer": "ipython3",
   "version": "3.9.7"
  }
 },
 "nbformat": 4,
 "nbformat_minor": 5
}
