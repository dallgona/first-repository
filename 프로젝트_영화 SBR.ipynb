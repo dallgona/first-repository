{
 "cells": [
  {
   "cell_type": "markdown",
   "id": "5ffc9810",
   "metadata": {},
   "source": [
    "# 프로젝트 - Movielens 영화 SBR"
   ]
  },
  {
   "cell_type": "code",
   "execution_count": 479,
   "id": "3cc3b62b",
   "metadata": {},
   "outputs": [
    {
     "name": "stdout",
     "output_type": "stream",
     "text": [
      "1.3.3\n",
      "2.6.0\n"
     ]
    }
   ],
   "source": [
    "import pandas\n",
    "import tensorflow\n",
    "\n",
    "print(pandas.__version__)\n",
    "print(tensorflow.__version__)"
   ]
  },
  {
   "cell_type": "code",
   "execution_count": 480,
   "id": "e5d0a27f",
   "metadata": {},
   "outputs": [],
   "source": [
    "import datetime as dt\n",
    "from pathlib import Path\n",
    "import os\n",
    "import time\n",
    "from datetime import datetime\n",
    "from IPython.display import display\n",
    "\n",
    "import numpy as np\n",
    "import pandas as pd\n",
    "import matplotlib.pyplot as plt\n",
    "import warnings\n",
    "warnings.filterwarnings('ignore')"
   ]
  },
  {
   "cell_type": "code",
   "execution_count": 481,
   "id": "dc7005cf",
   "metadata": {},
   "outputs": [],
   "source": [
    "data_path = Path(os.getenv('HOME')+'/aiffel/yoochoose/data/') \n",
    "train_path = data_path / 'ratings.dat'"
   ]
  },
  {
   "cell_type": "code",
   "execution_count": 482,
   "id": "f086e3b6",
   "metadata": {},
   "outputs": [],
   "source": [
    "def load_data(data_path: Path, nrows=None):\n",
    "    data = pd.read_csv(data_path, sep='::', header=None, usecols=[0, 1, 2, 3], dtype={0: np.int32, 1: np.int32, 2: np.int32}, nrows=nrows)\n",
    "    data.columns = ['UserId', 'ItemId', 'Rating', 'Time']\n",
    "    # Convert 'Time' to datetime\n",
    "    data['Time'] = pd.to_datetime(data['Time'], unit='s')\n",
    "    return data"
   ]
  },
  {
   "cell_type": "code",
   "execution_count": 483,
   "id": "db9d8eea",
   "metadata": {},
   "outputs": [],
   "source": [
    " def create_sessions(data, session_timeout=10):\n",
    "    \"\"\"\n",
    "    Create sessions based on UserID and RefinedTime with second-level granularity.\n",
    "    Args:\n",
    "        data (pd.DataFrame): Input data containing UserID and Time or RefinedTime.\n",
    "        session_timeout (int): Timeout in seconds to split sessions.\n",
    "    Returns:\n",
    "        pd.DataFrame: Data with new SessionID column.\n",
    "    \"\"\"\n",
    "    # Ensure 'RefinedTime' is available for finer granularity\n",
    "    if 'RefinedTime' not in data.columns:\n",
    "        refined_time_delta = pd.to_timedelta(np.random.rand(len(data)), unit='s')\n",
    "        if len(refined_time_delta) != len(data):\n",
    "            raise ValueError(\"Length mismatch when adding refined time.\")\n",
    "        data['RefinedTime'] = data['Time'] + refined_time_delta\n",
    "\n",
    "    # Calculate time difference in seconds\n",
    "    time_diff = data.groupby('UserId')['RefinedTime'].diff().dt.total_seconds()\n",
    "    if len(time_diff) != len(data):\n",
    "        raise ValueError(\"Length mismatch in time difference calculation.\")\n",
    "    data['TimeDiff'] = time_diff\n",
    "\n",
    "    # Assign SessionID based on timeout in seconds\n",
    "    data['SessionID'] = (data['TimeDiff'] > session_timeout).cumsum()\n",
    "\n",
    "    # Reset SessionID per UserID\n",
    "    data['SessionID'] = data.groupby('UserId')['SessionID'].transform(lambda x: x - x.min() + 1)\n",
    "\n",
    "    # Drop temporary column\n",
    "    data.drop(columns=['TimeDiff'], inplace=True)\n",
    "\n",
    "    return data\n"
   ]
  },
  {
   "cell_type": "code",
   "execution_count": 484,
   "id": "9ebfc0d7",
   "metadata": {},
   "outputs": [],
   "source": [
    "def filter_by_rating(data, threshold=3):\n",
    "    \"\"\"\n",
    "    Filter data based on the Rating threshold.\n",
    "    Args:\n",
    "        data (pd.DataFrame): Input data containing Rating column.\n",
    "        threshold (int): Minimum rating to keep.\n",
    "    Returns:\n",
    "        pd.DataFrame: Filtered data with ratings >= threshold.\n",
    "    \"\"\"\n",
    "    return data[data['Rating'] >= threshold]"
   ]
  },
  {
   "cell_type": "code",
   "execution_count": 485,
   "id": "e15a3946",
   "metadata": {},
   "outputs": [],
   "source": [
    " def create_sessions(data, session_timeout=10):\n",
    "    \"\"\"\n",
    "    Create sessions based on UserID and RefinedTime with second-level granularity.\n",
    "    Args:\n",
    "        data (pd.DataFrame): Input data containing UserID and Time or RefinedTime.\n",
    "        session_timeout (int): Timeout in seconds to split sessions.\n",
    "    Returns:\n",
    "        pd.DataFrame: Data with new SessionID column.\n",
    "    \"\"\"\n",
    "    # Ensure 'RefinedTime' is available for finer granularity\n",
    "    if 'RefinedTime' not in data.columns:\n",
    "        data['RefinedTime'] = data['Time'] + pd.to_timedelta(np.random.rand(len(data)), unit='s')\n",
    "\n",
    "    # Calculate time difference in seconds\n",
    "    data['TimeDiff'] = data.groupby('UserId')['RefinedTime'].diff().dt.total_seconds()\n",
    "\n",
    "    # Assign SessionID based on timeout in seconds\n",
    "    data['SessionID'] = (data['TimeDiff'] > session_timeout).cumsum()\n",
    "\n",
    "    # Reset SessionID per UserID\n",
    "    data['SessionID'] = data.groupby('UserId')['SessionID'].transform(lambda x: x - x.min() + 1)\n",
    "\n",
    "    # Drop temporary column\n",
    "    data.drop(columns=['TimeDiff'], inplace=True)\n",
    "\n",
    "    return data\n"
   ]
  },
  {
   "cell_type": "code",
   "execution_count": 486,
   "id": "6b2eb19d",
   "metadata": {},
   "outputs": [
    {
     "data": {
      "text/html": [
       "<div>\n",
       "<style scoped>\n",
       "    .dataframe tbody tr th:only-of-type {\n",
       "        vertical-align: middle;\n",
       "    }\n",
       "\n",
       "    .dataframe tbody tr th {\n",
       "        vertical-align: top;\n",
       "    }\n",
       "\n",
       "    .dataframe thead th {\n",
       "        text-align: right;\n",
       "    }\n",
       "</style>\n",
       "<table border=\"1\" class=\"dataframe\">\n",
       "  <thead>\n",
       "    <tr style=\"text-align: right;\">\n",
       "      <th></th>\n",
       "      <th>UserId</th>\n",
       "      <th>ItemId</th>\n",
       "      <th>Rating</th>\n",
       "      <th>Time</th>\n",
       "      <th>RefinedTime</th>\n",
       "      <th>SessionID</th>\n",
       "    </tr>\n",
       "  </thead>\n",
       "  <tbody>\n",
       "    <tr>\n",
       "      <th>31</th>\n",
       "      <td>1</td>\n",
       "      <td>3186</td>\n",
       "      <td>4</td>\n",
       "      <td>2000-12-31 22:00:19</td>\n",
       "      <td>2000-12-31 22:00:19.748169263</td>\n",
       "      <td>1</td>\n",
       "    </tr>\n",
       "    <tr>\n",
       "      <th>22</th>\n",
       "      <td>1</td>\n",
       "      <td>1270</td>\n",
       "      <td>5</td>\n",
       "      <td>2000-12-31 22:00:55</td>\n",
       "      <td>2000-12-31 22:00:55.402561734</td>\n",
       "      <td>2</td>\n",
       "    </tr>\n",
       "    <tr>\n",
       "      <th>27</th>\n",
       "      <td>1</td>\n",
       "      <td>1721</td>\n",
       "      <td>4</td>\n",
       "      <td>2000-12-31 22:00:55</td>\n",
       "      <td>2000-12-31 22:00:55.994364518</td>\n",
       "      <td>2</td>\n",
       "    </tr>\n",
       "    <tr>\n",
       "      <th>37</th>\n",
       "      <td>1</td>\n",
       "      <td>1022</td>\n",
       "      <td>5</td>\n",
       "      <td>2000-12-31 22:00:55</td>\n",
       "      <td>2000-12-31 22:00:55.922185159</td>\n",
       "      <td>2</td>\n",
       "    </tr>\n",
       "    <tr>\n",
       "      <th>24</th>\n",
       "      <td>1</td>\n",
       "      <td>2340</td>\n",
       "      <td>3</td>\n",
       "      <td>2000-12-31 22:01:43</td>\n",
       "      <td>2000-12-31 22:01:43.191131099</td>\n",
       "      <td>3</td>\n",
       "    </tr>\n",
       "    <tr>\n",
       "      <th>...</th>\n",
       "      <td>...</td>\n",
       "      <td>...</td>\n",
       "      <td>...</td>\n",
       "      <td>...</td>\n",
       "      <td>...</td>\n",
       "      <td>...</td>\n",
       "    </tr>\n",
       "    <tr>\n",
       "      <th>1000019</th>\n",
       "      <td>6040</td>\n",
       "      <td>2917</td>\n",
       "      <td>4</td>\n",
       "      <td>2001-08-10 14:40:29</td>\n",
       "      <td>2001-08-10 14:40:29.992477829</td>\n",
       "      <td>162</td>\n",
       "    </tr>\n",
       "    <tr>\n",
       "      <th>999988</th>\n",
       "      <td>6040</td>\n",
       "      <td>1921</td>\n",
       "      <td>4</td>\n",
       "      <td>2001-08-10 14:41:04</td>\n",
       "      <td>2001-08-10 14:41:04.179231911</td>\n",
       "      <td>163</td>\n",
       "    </tr>\n",
       "    <tr>\n",
       "      <th>1000172</th>\n",
       "      <td>6040</td>\n",
       "      <td>1784</td>\n",
       "      <td>3</td>\n",
       "      <td>2001-08-10 14:41:04</td>\n",
       "      <td>2001-08-10 14:41:04.985384839</td>\n",
       "      <td>163</td>\n",
       "    </tr>\n",
       "    <tr>\n",
       "      <th>1000167</th>\n",
       "      <td>6040</td>\n",
       "      <td>161</td>\n",
       "      <td>3</td>\n",
       "      <td>2001-08-10 14:41:26</td>\n",
       "      <td>2001-08-10 14:41:26.912466568</td>\n",
       "      <td>164</td>\n",
       "    </tr>\n",
       "    <tr>\n",
       "      <th>1000042</th>\n",
       "      <td>6040</td>\n",
       "      <td>1221</td>\n",
       "      <td>4</td>\n",
       "      <td>2001-08-20 13:44:15</td>\n",
       "      <td>2001-08-20 13:44:15.214628970</td>\n",
       "      <td>165</td>\n",
       "    </tr>\n",
       "  </tbody>\n",
       "</table>\n",
       "<p>1000209 rows × 6 columns</p>\n",
       "</div>"
      ],
      "text/plain": [
       "         UserId  ItemId  Rating                Time  \\\n",
       "31            1    3186       4 2000-12-31 22:00:19   \n",
       "22            1    1270       5 2000-12-31 22:00:55   \n",
       "27            1    1721       4 2000-12-31 22:00:55   \n",
       "37            1    1022       5 2000-12-31 22:00:55   \n",
       "24            1    2340       3 2000-12-31 22:01:43   \n",
       "...         ...     ...     ...                 ...   \n",
       "1000019    6040    2917       4 2001-08-10 14:40:29   \n",
       "999988     6040    1921       4 2001-08-10 14:41:04   \n",
       "1000172    6040    1784       3 2001-08-10 14:41:04   \n",
       "1000167    6040     161       3 2001-08-10 14:41:26   \n",
       "1000042    6040    1221       4 2001-08-20 13:44:15   \n",
       "\n",
       "                          RefinedTime  SessionID  \n",
       "31      2000-12-31 22:00:19.748169263          1  \n",
       "22      2000-12-31 22:00:55.402561734          2  \n",
       "27      2000-12-31 22:00:55.994364518          2  \n",
       "37      2000-12-31 22:00:55.922185159          2  \n",
       "24      2000-12-31 22:01:43.191131099          3  \n",
       "...                               ...        ...  \n",
       "1000019 2001-08-10 14:40:29.992477829        162  \n",
       "999988  2001-08-10 14:41:04.179231911        163  \n",
       "1000172 2001-08-10 14:41:04.985384839        163  \n",
       "1000167 2001-08-10 14:41:26.912466568        164  \n",
       "1000042 2001-08-20 13:44:15.214628970        165  \n",
       "\n",
       "[1000209 rows x 6 columns]"
      ]
     },
     "execution_count": 486,
     "metadata": {},
     "output_type": "execute_result"
    }
   ],
   "source": [
    "data = load_data(train_path, None)\n",
    "data = filter_by_rating(data, threshold=1)  # Filter out low ratings\n",
    "data.sort_values(['UserId', 'Time'], inplace=True)  # Sort data by UserID and Time\n",
    "data = create_sessions(data)\n",
    "\n",
    "data"
   ]
  },
  {
   "cell_type": "code",
   "execution_count": 487,
   "id": "76727d9e",
   "metadata": {},
   "outputs": [
    {
     "name": "stdout",
     "output_type": "stream",
     "text": [
      "\n",
      "Unique values per column:\n",
      "UserId: 6040 unique values\n",
      "ItemId: 3706 unique values\n",
      "Rating: 5 unique values\n",
      "Time: 458455 unique values\n",
      "RefinedTime: 1000209 unique values\n",
      "SessionID: 867 unique values\n"
     ]
    }
   ],
   "source": [
    "print(\"\\nUnique values per column:\")\n",
    "for column in data.columns:\n",
    "    print(f\"{column}: {data[column].nunique()} unique values\")"
   ]
  },
  {
   "cell_type": "code",
   "execution_count": 488,
   "id": "c5ca2b2c",
   "metadata": {},
   "outputs": [
    {
     "data": {
      "image/png": "[encoded data removed]",
      "text/plain": [
       "<Figure size 432x288 with 1 Axes>"
      ]
     },
     "metadata": {
      "needs_background": "light"
     },
     "output_type": "display_data"
    }
   ],
   "source": [
    "import seaborn as sns\n",
    "sns.histplot(data['Rating'], bins=5, kde=False)\n",
    "plt.title('Rating Distribution')\n",
    "plt.show()"
   ]
  },
  {
   "cell_type": "code",
   "execution_count": 489,
   "id": "2d188dad",
   "metadata": {},
   "outputs": [
    {
     "name": "stdout",
     "output_type": "stream",
     "text": [
      "\n",
      "Session Length Analysis:\n",
      "count      867.000000\n",
      "mean      1153.643599\n",
      "std       2612.997976\n",
      "min          1.000000\n",
      "25%          8.000000\n",
      "50%         74.000000\n",
      "75%        839.000000\n",
      "max      15050.000000\n",
      "dtype: float64\n"
     ]
    }
   ],
   "source": [
    "session_lengths = data.groupby('SessionID').size()\n",
    "print(\"\\nSession Length Analysis:\")\n",
    "print(session_lengths.describe())"
   ]
  },
  {
   "cell_type": "code",
   "execution_count": 490,
   "id": "f4a5bfda",
   "metadata": {},
   "outputs": [
    {
     "data": {
      "image/png": "[encoded data removed]",
      "text/plain": [
       "<Figure size 432x288 with 1 Axes>"
      ]
     },
     "metadata": {
      "needs_background": "light"
     },
     "output_type": "display_data"
    }
   ],
   "source": [
    "session_lengths.hist(bins=20)\n",
    "plt.title(\"Session Length Distribution\")\n",
    "plt.xlabel(\"Number of Interactions per Session\")\n",
    "plt.ylabel(\"Frequency\")\n",
    "plt.show()"
   ]
  },
  {
   "cell_type": "code",
   "execution_count": 491,
   "id": "d902c5f9",
   "metadata": {},
   "outputs": [
    {
     "name": "stdout",
     "output_type": "stream",
     "text": [
      "\n",
      "Short sessions (<= 2 interactions):\n",
      "SessionID\n",
      "708    2\n",
      "709    2\n",
      "710    2\n",
      "711    2\n",
      "712    2\n",
      "      ..\n",
      "863    1\n",
      "864    1\n",
      "865    1\n",
      "866    1\n",
      "867    1\n",
      "Length: 113, dtype: int64\n"
     ]
    }
   ],
   "source": [
    "print(\"\\nShort sessions (<= 2 interactions):\")\n",
    "print(session_lengths[session_lengths <= 2])"
   ]
  },
  {
   "cell_type": "code",
   "execution_count": 492,
   "id": "81b1ff77",
   "metadata": {},
   "outputs": [
    {
     "name": "stdout",
     "output_type": "stream",
     "text": [
      "count      867.000000\n",
      "mean      1153.643599\n",
      "std       2612.997976\n",
      "min          1.000000\n",
      "25%          8.000000\n",
      "50%         74.000000\n",
      "75%        839.000000\n",
      "max      15050.000000\n",
      "dtype: float64\n"
     ]
    }
   ],
   "source": [
    "print(session_lengths.describe())"
   ]
  },
  {
   "cell_type": "code",
   "execution_count": 493,
   "id": "f09b7007",
   "metadata": {},
   "outputs": [
    {
     "name": "stdout",
     "output_type": "stream",
     "text": [
      "<class 'pandas.core.frame.DataFrame'>\n"
     ]
    }
   ],
   "source": [
    "print(type(data))\n"
   ]
  },
  {
   "cell_type": "code",
   "execution_count": 494,
   "id": "a10061d6",
   "metadata": {},
   "outputs": [],
   "source": [
    "import pandas as pd\n",
    "\n",
    "# 딕셔너리를 DataFrame으로 변환\n",
    "data = pd.DataFrame(data)\n"
   ]
  },
  {
   "cell_type": "code",
   "execution_count": 495,
   "id": "c5a6c1c0",
   "metadata": {},
   "outputs": [
    {
     "name": "stdout",
     "output_type": "stream",
     "text": [
      "\n",
      "Session Time Analysis:\n",
      "count    8.670000e+02\n",
      "mean     1.055026e+06\n",
      "std      5.243510e+05\n",
      "min      0.000000e+00\n",
      "25%      4.701909e+05\n",
      "50%      1.316953e+06\n",
      "75%      1.469809e+06\n",
      "max      1.493892e+06\n",
      "Name: Time, dtype: float64\n"
     ]
    }
   ],
   "source": [
    "session_times = data.groupby('SessionID')['Time'].apply(lambda x: (x.max() - x.min()).total_seconds() / 60)\n",
    "print(\"\\nSession Time Analysis:\")\n",
    "print(session_times.describe())"
   ]
  },
  {
   "cell_type": "code",
   "execution_count": 496,
   "id": "704afa01",
   "metadata": {},
   "outputs": [
    {
     "name": "stdout",
     "output_type": "stream",
     "text": [
      "Warning: Filtered data is empty. Adjust conditions or check input data.\n",
      "Filtered dataset is empty. No valid sessions found.\n"
     ]
    }
   ],
   "source": [
    "def clean_data(data):\n",
    "    \"\"\"\n",
    "    Clean the dataset by removing anomalies based on session time and session length.\n",
    "    Args:\n",
    "        data (pd.DataFrame): Input dataset.\n",
    "    Returns:\n",
    "        pd.DataFrame: Cleaned dataset.\n",
    "    \"\"\"\n",
    "    # 세션 길이 계산\n",
    "    session_lengths = data.groupby('SessionID').size()\n",
    "    \n",
    "    # 세션 시간 계산\n",
    "    session_times = data.groupby('SessionID')['Time'].apply(lambda x: (x.max() - x.min()).total_seconds())\n",
    "    \n",
    "    # 유효한 세션 조건\n",
    "    valid_lengths = session_lengths[(session_lengths > 1) & (session_lengths < 100)].index  # 길이 조건 완화\n",
    "    valid_times = session_times[(session_times >= 0) & (session_times <= 12 * 60 * 60)].index  # 세션 시간 범위 확장\n",
    "    valid_sessions = valid_lengths.intersection(valid_times)\n",
    "    \n",
    "    # 유효한 세션만 남기기\n",
    "    data = data[data['SessionID'].isin(valid_sessions)]\n",
    "    \n",
    "    # 데이터 비어있는지 확인\n",
    "    if data.empty:\n",
    "        print(\"Warning: Filtered data is empty. Adjust conditions or check input data.\")\n",
    "    \n",
    "    return data\n",
    "\n",
    "# 클리닝 후 데이터 확인\n",
    "data = clean_data(data)\n",
    "\n",
    "# 필터링된 데이터 상태 확인\n",
    "if not data.empty:\n",
    "    filtered_session_times = data.groupby('SessionID')['Time'].apply(lambda x: (x.max() - x.min()).total_seconds())\n",
    "    print(filtered_session_times.describe())\n",
    "else:\n",
    "    print(\"Filtered dataset is empty. No valid sessions found.\")\n",
    " \n"
   ]
  },
  {
   "cell_type": "code",
   "execution_count": 497,
   "id": "11381e54",
   "metadata": {},
   "outputs": [
    {
     "name": "stdout",
     "output_type": "stream",
     "text": [
      "Index(['UserId', 'ItemId', 'Rating', 'Time', 'RefinedTime', 'SessionID'], dtype='object')\n"
     ]
    }
   ],
   "source": [
    "# 열 이름 확인\n",
    "print(data.columns)\n"
   ]
  },
  {
   "cell_type": "code",
   "execution_count": 498,
   "id": "5c1c99dd",
   "metadata": {},
   "outputs": [
    {
     "name": "stdout",
     "output_type": "stream",
     "text": [
      "\n",
      "Dataset Summary:\n",
      "Number of Sessions: 0\n",
      "Number of Users: 0\n",
      "Number of Items: 0\n",
      "Empty DataFrame\n",
      "Columns: [UserId, ItemId, Rating, Time, RefinedTime, SessionID]\n",
      "Index: []\n"
     ]
    }
   ],
   "source": [
    "print(\"\\nDataset Summary:\")\n",
    "print(f\"Number of Sessions: {data['SessionID'].nunique()}\")\n",
    "print(f\"Number of Users: {data['UserId'].nunique()}\")\n",
    "print(f\"Number of Items: {data['ItemId'].nunique()}\")\n",
    "print(data.head())"
   ]
  },
  {
   "cell_type": "code",
   "execution_count": 499,
   "id": "517f7118",
   "metadata": {},
   "outputs": [
    {
     "name": "stdout",
     "output_type": "stream",
     "text": [
      "[1]\n",
      "1\n"
     ]
    }
   ],
   "source": [
    "print(df['UserID'].unique())  # UserID의 고유 값 확인\n",
    "print(df['UserID'].nunique())  # UserID의 고유 개수 확인\n"
   ]
  },
  {
   "cell_type": "code",
   "execution_count": 500,
   "id": "af23fb84",
   "metadata": {},
   "outputs": [
    {
     "name": "stdout",
     "output_type": "stream",
     "text": [
      "\n",
      "Session Lengths:\n",
      "count    0.0\n",
      "mean     NaN\n",
      "std      NaN\n",
      "min      NaN\n",
      "25%      NaN\n",
      "50%      NaN\n",
      "75%      NaN\n",
      "max      NaN\n",
      "dtype: float64\n",
      "\n",
      "Session Times:\n",
      "count       0\n",
      "unique      0\n",
      "top       NaN\n",
      "freq      NaN\n",
      "Name: Time, dtype: object\n"
     ]
    }
   ],
   "source": [
    "# 세션 길이와 세션 시간 분포 확인\n",
    "session_lengths = data.groupby('SessionID').size()\n",
    "session_times = data.groupby('SessionID')['Time'].apply(lambda x: (x.max() - x.min()).total_seconds())\n",
    "\n",
    "print(\"\\nSession Lengths:\")\n",
    "print(session_lengths.describe())\n",
    "\n",
    "print(\"\\nSession Times:\")\n",
    "print(session_times.describe())\n"
   ]
  },
  {
   "cell_type": "code",
   "execution_count": 501,
   "id": "303627ce",
   "metadata": {},
   "outputs": [
    {
     "name": "stdout",
     "output_type": "stream",
     "text": [
      "<class 'pandas.core.frame.DataFrame'>\n",
      "Int64Index: 0 entries\n",
      "Data columns (total 6 columns):\n",
      " #   Column       Non-Null Count  Dtype         \n",
      "---  ------       --------------  -----         \n",
      " 0   UserId       0 non-null      int32         \n",
      " 1   ItemId       0 non-null      int32         \n",
      " 2   Rating       0 non-null      int32         \n",
      " 3   Time         0 non-null      datetime64[ns]\n",
      " 4   RefinedTime  0 non-null      datetime64[ns]\n",
      " 5   SessionID    0 non-null      int64         \n",
      "dtypes: datetime64[ns](2), int32(3), int64(1)\n",
      "memory usage: 0.0 bytes\n",
      "None\n",
      "Empty DataFrame\n",
      "Columns: [UserId, ItemId, Rating, Time, RefinedTime, SessionID]\n",
      "Index: []\n"
     ]
    }
   ],
   "source": [
    "# 데이터셋 요약 정보\n",
    "print(data.info())\n",
    "print(data.head())\n",
    "\n"
   ]
  },
  {
   "cell_type": "markdown",
   "id": "0e940d41",
   "metadata": {},
   "source": [
    "결과 회고\n",
    "\n",
    "결론적으로 말하자면 '유효한 세션 조건'을 매우 다양한 수치로 조정했지만 충족하지 못했고 'UserId'가 하나인 이유를 찾지 못했다. 여러 시도 끝에 알 수 없는 이유로 모두 결측치로 나오면서 전처리에 실패했다. 데이터 손상이나 경로가 의심되지만 일정 관계로 작업을 중단해야 한다."
   ]
  }
 ],
 "metadata": {
  "kernelspec": {
   "display_name": "Python 3 (ipykernel)",
   "language": "python",
   "name": "python3"
  },
  "language_info": {
   "codemirror_mode": {
    "name": "ipython",
    "version": 3
   },
   "file_extension": ".py",
   "mimetype": "text/x-python",
   "name": "python",
   "nbconvert_exporter": "python",
   "pygments_lexer": "ipython3",
   "version": "3.9.7"
  }
 },
 "nbformat": 4,
 "nbformat_minor": 5
}
